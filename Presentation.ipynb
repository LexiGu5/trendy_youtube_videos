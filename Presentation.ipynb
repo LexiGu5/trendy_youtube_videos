{
 "cells": [
  {
   "cell_type": "code",
   "execution_count": 11,
   "metadata": {
    "slideshow": {
     "slide_type": "notes"
    }
   },
   "outputs": [],
   "source": [
    "import pandas as pd \n",
    "import numpy as np\n",
    "from datetime import datetime\n",
    "import matplotlib.pyplot as plt\n",
    "import seaborn as sns\n",
    "import time\n",
    "import random\n",
    "import requests\n",
    "import pandas as pd\n",
    "import numpy as np\n",
    "from datetime import date"
   ]
  },
  {
   "cell_type": "markdown",
   "metadata": {
    "slideshow": {
     "slide_type": "slide"
    }
   },
   "source": [
    "#### DS1 Final Project \n",
    "\n",
    "### Determinants of a Trendy YouTube Video \n",
    "\n",
    "#### Lexi Gu\n"
   ]
  },
  {
   "attachments": {},
   "cell_type": "markdown",
   "metadata": {
    "slideshow": {
     "slide_type": "subslide"
    }
   },
   "source": [
    "### Background \n",
    "\n",
    "#### YouTube is the most popular platform for people to share and view original contents.\n",
    "- more than 2 billion users \n",
    "- one billion hours and 5 billion videos watched daily\n",
    "\n",
    "#### There are more and more content-creators emerging \n",
    "- popularity \n",
    "- profits "
   ]
  },
  {
   "cell_type": "markdown",
   "metadata": {
    "slideshow": {
     "slide_type": "subslide"
    }
   },
   "source": [
    "\n",
    "#### What makes a YouTube Video popular?\n",
    "- What factors contribute to the popularity of YouTube Videos?\n",
    "- category?\n",
    "- tags?\n",
    "- publish date?\n",
    "- Likes? Dislikes? Comment?\n",
    "- number of newly confirmed Covid cases/deaths?\n",
    "\n",
    "#### I would like to examine the factors that are predictive of \"popularity\" on the YouTube platform\n"
   ]
  },
  {
   "cell_type": "markdown",
   "metadata": {
    "slideshow": {
     "slide_type": "slide"
    }
   },
   "source": [
    "#### Methods I have used \n",
    "- Downloaded and Scraped Data\n",
    "- Data cleaning \n",
    "- Merging Data \n",
    "- Two visualizations for correlations using seaborn and matplotlib "
   ]
  },
  {
   "cell_type": "markdown",
   "metadata": {
    "slideshow": {
     "slide_type": "subslide"
    }
   },
   "source": [
    "#### Data  Files \n",
    "- Two csv files for Trendy YouTube videos in the US & UK\n",
    "- Two json files for video category id and title \n",
    "- Scraped Covid data (daily new cases and deaths)"
   ]
  },
  {
   "cell_type": "code",
   "execution_count": 13,
   "metadata": {
    "slideshow": {
     "slide_type": "notes"
    }
   },
   "outputs": [],
   "source": [
    "# load the CSV files for the US and UK youtube videos\n",
    "us_video = pd.read_csv(\"US_youtube_trending_data.csv\")\n",
    "uk_video = pd.read_csv(\"BR_youtube_trending_data.csv\")\n",
    "\n",
    "# load the json files \n",
    "us_category = pd.read_json(\"US_category_id.json\")\n",
    "uk_category = pd.read_json(\"BR_category_id.json\")\n",
    "\n",
    "# save the link to the website \n",
    "url = \"https://covidtracking.com/data/national/chart-tables\"\n",
    "\n",
    "# scrape the web content \n",
    "raw = requests.get(url)\n",
    "\n",
    "# check the connection \n",
    "raw.status_code\n",
    "\n",
    "# generate a temporary table \n",
    "tables = pd.read_html(raw.text)\n",
    "\n",
    "newcases = tables[1]\n",
    "newcases.rename(columns = {'Value':'new_case'}, inplace = True)\n",
    "\n",
    "newdeath = tables[3]\n",
    "newdeath.rename(columns = {'Value':'new_death'}, inplace = True)"
   ]
  },
  {
   "cell_type": "code",
   "execution_count": 18,
   "metadata": {
    "slideshow": {
     "slide_type": "notes"
    }
   },
   "outputs": [],
   "source": [
    "# drop the unnecessary column in the category data set \n",
    "us_category = us_category['items']\n",
    "uk_category = uk_category['items']\n",
    "\n",
    "# create an empty dataframe for matching id and category title \n",
    "id_title = pd.DataFrame()\n",
    "\n",
    "# create an empty list for us category id \n",
    "id_us = []\n",
    "\n",
    "# create an empty list for us category title \n",
    "title_us = []\n",
    "# append the id extracted from the us category to the list \n",
    "for i in range(len(us_category)):\n",
    "    id_us.append(us_category[i]['id'])\n",
    "\n",
    "# append the title extracted from the us category to the list \n",
    "for i in range(len(us_category)):\n",
    "    title_us.append(us_category[i]['snippet']['title'])\n",
    "    \n",
    "# assign the lists to columns in the id_title dataframe \n",
    "id_title['category_id'] = id_us\n",
    "id_title['category_title'] = title_us\n",
    "\n",
    "\n",
    "\n",
    "# create an empty dataframe for matching id and category title \n",
    "id_title_uk = pd.DataFrame()\n",
    "\n",
    "# create an empty list for us category id \n",
    "id_uk = []\n",
    "\n",
    "# create an empty list for us category title \n",
    "title_uk = []\n",
    "# append the id extracted from the us category to the list \n",
    "for i in range(len(uk_category)):\n",
    "    id_uk.append(uk_category[i]['id'])\n",
    "\n",
    "# append the title extracted from the us category to the list \n",
    "for i in range(len(uk_category)):\n",
    "    title_uk.append(uk_category[i]['snippet']['title'])\n",
    "    \n",
    "# assign the lists to columns in the id_title dataframe \n",
    "id_title_uk['category_id'] = id_uk\n",
    "id_title_uk['category_title'] = title_uk"
   ]
  },
  {
   "cell_type": "markdown",
   "metadata": {
    "slideshow": {
     "slide_type": "subslide"
    }
   },
   "source": [
    "###### Merged all the files \n",
    "- To associate each category number in the csv file with the category title in the json files \n",
    "- For furthur manipulation, cleaning, and comparison for the whole dataset at once (US & UK)\n",
    "\n",
    "###### Cleaning\n",
    "- Made a bar chart to check NA values and extracted rows with NA values \n",
    "- Changed string to datetime objects \n",
    "- Groupby the video id to count trending days, view increase, like increase, and comment increase  \n",
    "- Counted the difference in days between the publish date and trending date \n",
    "- Dropped the duplicates by video id \n",
    "\n",
    "###### Visualizations \n",
    "- Bar chart \n",
    "- Scatterplot "
   ]
  },
  {
   "cell_type": "markdown",
   "metadata": {
    "slideshow": {
     "slide_type": "slide"
    }
   },
   "source": [
    "###### Results (dataframe & visualizations)\n",
    "- One large dataframe containing YouTube Videos in the US & UK\n",
    "- One covid dataset containing date, new cases, and new deaths\n",
    "- One bar chart for category counts in the video dataset \n",
    "- One scatterplot visualizing the correlation between view counts and date"
   ]
  },
  {
   "cell_type": "code",
   "execution_count": 20,
   "metadata": {
    "slideshow": {
     "slide_type": "skip"
    }
   },
   "outputs": [],
   "source": [
    "# change the column name in the video dataframe \n",
    "us_video = us_video.rename(columns = {'categoryId':'category_id'})\n",
    "uk_video = uk_video.rename(columns = {'categoryId':'category_id'})\n",
    "\n",
    "# change the data type \n",
    "id_title['category_id'] = id_title['category_id'].astype(\"int\")\n",
    "id_title_uk['category_id'] = id_title['category_id'].astype(\"int\")\n",
    "\n",
    "# merge the id_title with video dataframe\n",
    "us_video = us_video.merge(id_title, how = 'inner', on = 'category_id')\n",
    "uk_video = uk_video.merge(id_title_uk, how = 'inner', on = 'category_id')\n",
    "\n",
    "# Create a new column indicating the region\n",
    "us_video['region'] = 'us'\n",
    "uk_video['region'] = 'uk'\n",
    "\n",
    "# merge the two dataset \n",
    "total = pd.concat([us_video,uk_video])\n",
    "total = total.reset_index(drop = True)"
   ]
  },
  {
   "cell_type": "code",
   "execution_count": 24,
   "metadata": {
    "slideshow": {
     "slide_type": "skip"
    }
   },
   "outputs": [],
   "source": [
    "# create an empty list for trending_date and publish date\n",
    "trending = []\n",
    "publish = []\n",
    "\n",
    "# change to datetime object \n",
    "for i in range(len(total['trending_date'])):\n",
    "    temp_trend = total['trending_date'][i].split('T')\n",
    "    trend = datetime.strptime(temp_trend[0],'%Y-%m-%d')\n",
    "    trending.append(trend)\n",
    "\n",
    "for i in range(len(total['publishedAt'])):\n",
    "    temp_publish = total['publishedAt'][i].split('T')\n",
    "    publish1 = datetime.strptime(temp_publish[0],'%Y-%m-%d')\n",
    "    publish.append(publish1)\n",
    "    \n",
    "# assign the datetime object back to the dataframe \n",
    "total['trending_date'] = trending\n",
    "total['publishedAt'] = publish"
   ]
  },
  {
   "cell_type": "code",
   "execution_count": 26,
   "metadata": {
    "slideshow": {
     "slide_type": "skip"
    }
   },
   "outputs": [],
   "source": [
    "# count the trending days \n",
    "trending_days = total.groupby('video_id')['trending_date'].agg(['max','min']).reset_index()\n",
    "trending_days['trending_days'] = trending_days['max'] - trending_days['min']\n",
    "\n",
    "# count the view increase \n",
    "view_increase = total.groupby('video_id')['view_count'].agg(['max','min']).reset_index()\n",
    "view_increase['view_increase'] = view_increase['max'] - view_increase['min']\n",
    "\n",
    "# count the like increase \n",
    "like_increase = total.groupby('video_id')['likes'].agg(['max','min']).reset_index()\n",
    "like_increase['like_increase'] = like_increase['max'] - like_increase['min']\n",
    "\n",
    "# count the comment increase \n",
    "comment_increase = total.groupby('video_id')['comment_count'].agg(['max','min']).reset_index()\n",
    "comment_increase['comment_increase'] = comment_increase['max'] - comment_increase['min']\n"
   ]
  },
  {
   "cell_type": "code",
   "execution_count": 27,
   "metadata": {
    "slideshow": {
     "slide_type": "skip"
    }
   },
   "outputs": [],
   "source": [
    "# merge the increases and trending days \n",
    "trending_period = trending_days.merge(view_increase, how = 'inner', on = 'video_id')\n",
    "trending_period = trending_period.merge(like_increase, how = 'inner', on = 'video_id')\n",
    "trending_period = trending_period.merge(comment_increase, how = 'inner', on = 'video_id')\n",
    "trending_period = trending_period[['video_id','trending_days','view_increase','like_increase','comment_increase']]\n",
    "\n",
    "# merge the trending period info with the main dataset \n",
    "total = total.merge(trending_period, how = 'inner', on = 'video_id')"
   ]
  },
  {
   "cell_type": "code",
   "execution_count": 28,
   "metadata": {
    "slideshow": {
     "slide_type": "skip"
    }
   },
   "outputs": [],
   "source": [
    "# count the difference in days between published date and trending date \n",
    "published = total['publishedAt'].to_list()\n",
    "trendy = total['trending_date'].to_list()\n",
    "\n",
    "# assign to column \n",
    "total['diff_days'] = [x1 - x2 for (x1, x2) in zip(trendy, published)]\n",
    "\n",
    "# drop the unnecessary columns and re-arrange the order \n",
    "total = total[['video_id','title','channelTitle','tags','category_id','category_title','publishedAt','trending_date','diff_days','trending_days','view_count','view_increase','likes','like_increase','dislikes','comment_count','comment_increase','comments_disabled','ratings_disabled','region']]"
   ]
  },
  {
   "cell_type": "code",
   "execution_count": 32,
   "metadata": {
    "slideshow": {
     "slide_type": "skip"
    }
   },
   "outputs": [],
   "source": [
    "# drop the duplicates \n",
    "total_unique = total.drop_duplicates('video_id')"
   ]
  },
  {
   "cell_type": "code",
   "execution_count": 31,
   "metadata": {
    "slideshow": {
     "slide_type": "skip"
    }
   },
   "outputs": [],
   "source": [
    "# merge the new cases and new deaths \n",
    "covid = newcases.merge(newdeath, how = 'inner', on = 'Date')\n",
    "\n",
    "# drop unnecessary columns \n",
    "covid = covid[['Date','new_case','new_death']]"
   ]
  },
  {
   "cell_type": "code",
   "execution_count": 34,
   "metadata": {
    "slideshow": {
     "slide_type": "subslide"
    }
   },
   "outputs": [
    {
     "data": {
      "text/html": [
       "<div>\n",
       "<style scoped>\n",
       "    .dataframe tbody tr th:only-of-type {\n",
       "        vertical-align: middle;\n",
       "    }\n",
       "\n",
       "    .dataframe tbody tr th {\n",
       "        vertical-align: top;\n",
       "    }\n",
       "\n",
       "    .dataframe thead th {\n",
       "        text-align: right;\n",
       "    }\n",
       "</style>\n",
       "<table border=\"1\" class=\"dataframe\">\n",
       "  <thead>\n",
       "    <tr style=\"text-align: right;\">\n",
       "      <th></th>\n",
       "      <th>video_id</th>\n",
       "      <th>title</th>\n",
       "      <th>channelTitle</th>\n",
       "      <th>tags</th>\n",
       "      <th>category_id</th>\n",
       "      <th>category_title</th>\n",
       "      <th>publishedAt</th>\n",
       "      <th>trending_date</th>\n",
       "      <th>diff_days</th>\n",
       "      <th>trending_days</th>\n",
       "      <th>view_count</th>\n",
       "      <th>view_increase</th>\n",
       "      <th>likes</th>\n",
       "      <th>like_increase</th>\n",
       "      <th>dislikes</th>\n",
       "      <th>comment_count</th>\n",
       "      <th>comment_increase</th>\n",
       "      <th>comments_disabled</th>\n",
       "      <th>ratings_disabled</th>\n",
       "      <th>region</th>\n",
       "    </tr>\n",
       "  </thead>\n",
       "  <tbody>\n",
       "    <tr>\n",
       "      <th>0</th>\n",
       "      <td>3C66w5Z0ixs</td>\n",
       "      <td>I ASKED HER TO BE MY GIRLFRIEND...</td>\n",
       "      <td>Brawadis</td>\n",
       "      <td>brawadis|prank|basketball|skits|ghost|funny vi...</td>\n",
       "      <td>22</td>\n",
       "      <td>People &amp; Blogs</td>\n",
       "      <td>2020-08-11</td>\n",
       "      <td>2020-08-12</td>\n",
       "      <td>1 days</td>\n",
       "      <td>6 days</td>\n",
       "      <td>1514614</td>\n",
       "      <td>2443612</td>\n",
       "      <td>156908</td>\n",
       "      <td>47352</td>\n",
       "      <td>5855</td>\n",
       "      <td>35313</td>\n",
       "      <td>10261</td>\n",
       "      <td>False</td>\n",
       "      <td>False</td>\n",
       "      <td>us</td>\n",
       "    </tr>\n",
       "    <tr>\n",
       "      <th>7</th>\n",
       "      <td>49Z6Mv4_WCA</td>\n",
       "      <td>i don't know what im doing anymore</td>\n",
       "      <td>CaseyNeistat</td>\n",
       "      <td>[None]</td>\n",
       "      <td>22</td>\n",
       "      <td>People &amp; Blogs</td>\n",
       "      <td>2020-08-11</td>\n",
       "      <td>2020-08-12</td>\n",
       "      <td>1 days</td>\n",
       "      <td>5 days</td>\n",
       "      <td>940036</td>\n",
       "      <td>1049619</td>\n",
       "      <td>87111</td>\n",
       "      <td>47984</td>\n",
       "      <td>1860</td>\n",
       "      <td>7052</td>\n",
       "      <td>2933</td>\n",
       "      <td>False</td>\n",
       "      <td>False</td>\n",
       "      <td>us</td>\n",
       "    </tr>\n",
       "    <tr>\n",
       "      <th>13</th>\n",
       "      <td>nt3VVyv5pxQ</td>\n",
       "      <td>Try Not To Laugh Challenge #51</td>\n",
       "      <td>Smosh Pit</td>\n",
       "      <td>smosh|smosh pit|smosh games|funny|comedy</td>\n",
       "      <td>22</td>\n",
       "      <td>People &amp; Blogs</td>\n",
       "      <td>2020-08-11</td>\n",
       "      <td>2020-08-12</td>\n",
       "      <td>1 days</td>\n",
       "      <td>5 days</td>\n",
       "      <td>591837</td>\n",
       "      <td>358083</td>\n",
       "      <td>44168</td>\n",
       "      <td>12707</td>\n",
       "      <td>409</td>\n",
       "      <td>2652</td>\n",
       "      <td>635</td>\n",
       "      <td>False</td>\n",
       "      <td>False</td>\n",
       "      <td>us</td>\n",
       "    </tr>\n",
       "    <tr>\n",
       "      <th>19</th>\n",
       "      <td>BNeDH6UTmXw</td>\n",
       "      <td>Ten Minutes with Tyler Cameron | Q&amp;A</td>\n",
       "      <td>Tyler Cameron</td>\n",
       "      <td>the bachelor|the bachelorette|Tyler c|Tyler Ca...</td>\n",
       "      <td>22</td>\n",
       "      <td>People &amp; Blogs</td>\n",
       "      <td>2020-08-11</td>\n",
       "      <td>2020-08-12</td>\n",
       "      <td>1 days</td>\n",
       "      <td>4 days</td>\n",
       "      <td>105955</td>\n",
       "      <td>78556</td>\n",
       "      <td>4511</td>\n",
       "      <td>1628</td>\n",
       "      <td>69</td>\n",
       "      <td>673</td>\n",
       "      <td>178</td>\n",
       "      <td>False</td>\n",
       "      <td>False</td>\n",
       "      <td>us</td>\n",
       "    </tr>\n",
       "    <tr>\n",
       "      <th>24</th>\n",
       "      <td>gPdUslndvVI</td>\n",
       "      <td>Our Farm Got Destroyed.</td>\n",
       "      <td>Cole The Cornstar</td>\n",
       "      <td>farming|family farm|agriculture|agriculture jo...</td>\n",
       "      <td>22</td>\n",
       "      <td>People &amp; Blogs</td>\n",
       "      <td>2020-08-11</td>\n",
       "      <td>2020-08-12</td>\n",
       "      <td>1 days</td>\n",
       "      <td>5 days</td>\n",
       "      <td>277338</td>\n",
       "      <td>520534</td>\n",
       "      <td>37533</td>\n",
       "      <td>16056</td>\n",
       "      <td>197</td>\n",
       "      <td>3666</td>\n",
       "      <td>1091</td>\n",
       "      <td>False</td>\n",
       "      <td>False</td>\n",
       "      <td>us</td>\n",
       "    </tr>\n",
       "    <tr>\n",
       "      <th>...</th>\n",
       "      <td>...</td>\n",
       "      <td>...</td>\n",
       "      <td>...</td>\n",
       "      <td>...</td>\n",
       "      <td>...</td>\n",
       "      <td>...</td>\n",
       "      <td>...</td>\n",
       "      <td>...</td>\n",
       "      <td>...</td>\n",
       "      <td>...</td>\n",
       "      <td>...</td>\n",
       "      <td>...</td>\n",
       "      <td>...</td>\n",
       "      <td>...</td>\n",
       "      <td>...</td>\n",
       "      <td>...</td>\n",
       "      <td>...</td>\n",
       "      <td>...</td>\n",
       "      <td>...</td>\n",
       "      <td>...</td>\n",
       "    </tr>\n",
       "    <tr>\n",
       "      <th>43967</th>\n",
       "      <td>6X1c91KX_5Q</td>\n",
       "      <td>O MAIOR PROJETO DA MINHA VIDA</td>\n",
       "      <td>Tiago Fonseca</td>\n",
       "      <td>tiago fonseca|nego grana|como ficar rico|como ...</td>\n",
       "      <td>19</td>\n",
       "      <td>Travel &amp; Events</td>\n",
       "      <td>2020-10-25</td>\n",
       "      <td>2020-10-26</td>\n",
       "      <td>1 days</td>\n",
       "      <td>5 days</td>\n",
       "      <td>42882</td>\n",
       "      <td>48214</td>\n",
       "      <td>7301</td>\n",
       "      <td>4134</td>\n",
       "      <td>115</td>\n",
       "      <td>497</td>\n",
       "      <td>135</td>\n",
       "      <td>False</td>\n",
       "      <td>False</td>\n",
       "      <td>uk</td>\n",
       "    </tr>\n",
       "    <tr>\n",
       "      <th>43972</th>\n",
       "      <td>45cJjkM3rL0</td>\n",
       "      <td>NÃO ACREDITO QUE ELES ABANDONARAM ESSAS MALAS ...</td>\n",
       "      <td>Isabela Borges</td>\n",
       "      <td>isabela|isabela borges|isaborgesh|intercambio ...</td>\n",
       "      <td>19</td>\n",
       "      <td>Travel &amp; Events</td>\n",
       "      <td>2020-11-19</td>\n",
       "      <td>2020-11-20</td>\n",
       "      <td>1 days</td>\n",
       "      <td>5 days</td>\n",
       "      <td>198657</td>\n",
       "      <td>74883</td>\n",
       "      <td>16999</td>\n",
       "      <td>3882</td>\n",
       "      <td>496</td>\n",
       "      <td>0</td>\n",
       "      <td>0</td>\n",
       "      <td>True</td>\n",
       "      <td>False</td>\n",
       "      <td>uk</td>\n",
       "    </tr>\n",
       "    <tr>\n",
       "      <th>43977</th>\n",
       "      <td>FcwOHdNUMck</td>\n",
       "      <td>LIVE SHOP ROMMANEL PRESENTE SEMPRE COM SIMONE ...</td>\n",
       "      <td>Simone e Simaria</td>\n",
       "      <td>simone|simone mendes|simaria|simaria mendes|si...</td>\n",
       "      <td>19</td>\n",
       "      <td>Travel &amp; Events</td>\n",
       "      <td>2020-11-21</td>\n",
       "      <td>2020-11-24</td>\n",
       "      <td>3 days</td>\n",
       "      <td>3 days</td>\n",
       "      <td>708511</td>\n",
       "      <td>20868</td>\n",
       "      <td>27594</td>\n",
       "      <td>424</td>\n",
       "      <td>479</td>\n",
       "      <td>462</td>\n",
       "      <td>27</td>\n",
       "      <td>False</td>\n",
       "      <td>False</td>\n",
       "      <td>uk</td>\n",
       "    </tr>\n",
       "    <tr>\n",
       "      <th>43981</th>\n",
       "      <td>eM8jpKLUsBo</td>\n",
       "      <td>Diana Noble 30 dia de uso do Suplemento</td>\n",
       "      <td>Canal do Vaqueiro Atualizado</td>\n",
       "      <td>Cavalo|vaqueiro|boi|égua|cawboy|horse|Fazenda|...</td>\n",
       "      <td>15</td>\n",
       "      <td>Pets &amp; Animals</td>\n",
       "      <td>2020-09-21</td>\n",
       "      <td>2020-09-22</td>\n",
       "      <td>1 days</td>\n",
       "      <td>4 days</td>\n",
       "      <td>61901</td>\n",
       "      <td>22017</td>\n",
       "      <td>7336</td>\n",
       "      <td>1308</td>\n",
       "      <td>71</td>\n",
       "      <td>283</td>\n",
       "      <td>28</td>\n",
       "      <td>False</td>\n",
       "      <td>False</td>\n",
       "      <td>uk</td>\n",
       "    </tr>\n",
       "    <tr>\n",
       "      <th>43986</th>\n",
       "      <td>SCE0Cg0Em5A</td>\n",
       "      <td>AVENTURA NA PRAIA: BLANT CONHECE O MAR, ESCALA...</td>\n",
       "      <td>Gudan, o Husky Cinzento</td>\n",
       "      <td>husky|gudan|gudan husky|husky praia|cachorro n...</td>\n",
       "      <td>15</td>\n",
       "      <td>Pets &amp; Animals</td>\n",
       "      <td>2020-10-02</td>\n",
       "      <td>2020-10-03</td>\n",
       "      <td>1 days</td>\n",
       "      <td>4 days</td>\n",
       "      <td>55198</td>\n",
       "      <td>77691</td>\n",
       "      <td>13092</td>\n",
       "      <td>6232</td>\n",
       "      <td>49</td>\n",
       "      <td>586</td>\n",
       "      <td>167</td>\n",
       "      <td>False</td>\n",
       "      <td>False</td>\n",
       "      <td>uk</td>\n",
       "    </tr>\n",
       "  </tbody>\n",
       "</table>\n",
       "<p>8276 rows × 20 columns</p>\n",
       "</div>"
      ],
      "text/plain": [
       "          video_id                                              title  \\\n",
       "0      3C66w5Z0ixs                 I ASKED HER TO BE MY GIRLFRIEND...   \n",
       "7      49Z6Mv4_WCA                 i don't know what im doing anymore   \n",
       "13     nt3VVyv5pxQ                     Try Not To Laugh Challenge #51   \n",
       "19     BNeDH6UTmXw               Ten Minutes with Tyler Cameron | Q&A   \n",
       "24     gPdUslndvVI                            Our Farm Got Destroyed.   \n",
       "...            ...                                                ...   \n",
       "43967  6X1c91KX_5Q                      O MAIOR PROJETO DA MINHA VIDA   \n",
       "43972  45cJjkM3rL0  NÃO ACREDITO QUE ELES ABANDONARAM ESSAS MALAS ...   \n",
       "43977  FcwOHdNUMck  LIVE SHOP ROMMANEL PRESENTE SEMPRE COM SIMONE ...   \n",
       "43981  eM8jpKLUsBo            Diana Noble 30 dia de uso do Suplemento   \n",
       "43986  SCE0Cg0Em5A  AVENTURA NA PRAIA: BLANT CONHECE O MAR, ESCALA...   \n",
       "\n",
       "                       channelTitle  \\\n",
       "0                          Brawadis   \n",
       "7                      CaseyNeistat   \n",
       "13                        Smosh Pit   \n",
       "19                    Tyler Cameron   \n",
       "24                Cole The Cornstar   \n",
       "...                             ...   \n",
       "43967                 Tiago Fonseca   \n",
       "43972                Isabela Borges   \n",
       "43977              Simone e Simaria   \n",
       "43981  Canal do Vaqueiro Atualizado   \n",
       "43986       Gudan, o Husky Cinzento   \n",
       "\n",
       "                                                    tags  category_id  \\\n",
       "0      brawadis|prank|basketball|skits|ghost|funny vi...           22   \n",
       "7                                                 [None]           22   \n",
       "13              smosh|smosh pit|smosh games|funny|comedy           22   \n",
       "19     the bachelor|the bachelorette|Tyler c|Tyler Ca...           22   \n",
       "24     farming|family farm|agriculture|agriculture jo...           22   \n",
       "...                                                  ...          ...   \n",
       "43967  tiago fonseca|nego grana|como ficar rico|como ...           19   \n",
       "43972  isabela|isabela borges|isaborgesh|intercambio ...           19   \n",
       "43977  simone|simone mendes|simaria|simaria mendes|si...           19   \n",
       "43981  Cavalo|vaqueiro|boi|égua|cawboy|horse|Fazenda|...           15   \n",
       "43986  husky|gudan|gudan husky|husky praia|cachorro n...           15   \n",
       "\n",
       "        category_title publishedAt trending_date diff_days trending_days  \\\n",
       "0       People & Blogs  2020-08-11    2020-08-12    1 days        6 days   \n",
       "7       People & Blogs  2020-08-11    2020-08-12    1 days        5 days   \n",
       "13      People & Blogs  2020-08-11    2020-08-12    1 days        5 days   \n",
       "19      People & Blogs  2020-08-11    2020-08-12    1 days        4 days   \n",
       "24      People & Blogs  2020-08-11    2020-08-12    1 days        5 days   \n",
       "...                ...         ...           ...       ...           ...   \n",
       "43967  Travel & Events  2020-10-25    2020-10-26    1 days        5 days   \n",
       "43972  Travel & Events  2020-11-19    2020-11-20    1 days        5 days   \n",
       "43977  Travel & Events  2020-11-21    2020-11-24    3 days        3 days   \n",
       "43981   Pets & Animals  2020-09-21    2020-09-22    1 days        4 days   \n",
       "43986   Pets & Animals  2020-10-02    2020-10-03    1 days        4 days   \n",
       "\n",
       "       view_count  view_increase   likes  like_increase  dislikes  \\\n",
       "0         1514614        2443612  156908          47352      5855   \n",
       "7          940036        1049619   87111          47984      1860   \n",
       "13         591837         358083   44168          12707       409   \n",
       "19         105955          78556    4511           1628        69   \n",
       "24         277338         520534   37533          16056       197   \n",
       "...           ...            ...     ...            ...       ...   \n",
       "43967       42882          48214    7301           4134       115   \n",
       "43972      198657          74883   16999           3882       496   \n",
       "43977      708511          20868   27594            424       479   \n",
       "43981       61901          22017    7336           1308        71   \n",
       "43986       55198          77691   13092           6232        49   \n",
       "\n",
       "       comment_count  comment_increase  comments_disabled  ratings_disabled  \\\n",
       "0              35313             10261              False             False   \n",
       "7               7052              2933              False             False   \n",
       "13              2652               635              False             False   \n",
       "19               673               178              False             False   \n",
       "24              3666              1091              False             False   \n",
       "...              ...               ...                ...               ...   \n",
       "43967            497               135              False             False   \n",
       "43972              0                 0               True             False   \n",
       "43977            462                27              False             False   \n",
       "43981            283                28              False             False   \n",
       "43986            586               167              False             False   \n",
       "\n",
       "      region  \n",
       "0         us  \n",
       "7         us  \n",
       "13        us  \n",
       "19        us  \n",
       "24        us  \n",
       "...      ...  \n",
       "43967     uk  \n",
       "43972     uk  \n",
       "43977     uk  \n",
       "43981     uk  \n",
       "43986     uk  \n",
       "\n",
       "[8276 rows x 20 columns]"
      ]
     },
     "execution_count": 34,
     "metadata": {},
     "output_type": "execute_result"
    }
   ],
   "source": [
    "total_unique"
   ]
  },
  {
   "cell_type": "code",
   "execution_count": 48,
   "metadata": {
    "slideshow": {
     "slide_type": "subslide"
    }
   },
   "outputs": [
    {
     "data": {
      "text/plain": [
       "[None, None, None, None]"
      ]
     },
     "execution_count": 48,
     "metadata": {},
     "output_type": "execute_result"
    },
    {
     "data": {
      "image/png": "[encoded data removed]",
      "text/plain": [
       "<Figure size 1152x576 with 1 Axes>"
      ]
     },
     "metadata": {
      "needs_background": "light"
     },
     "output_type": "display_data"
    }
   ],
   "source": [
    "# Visualization 1 - Bar Chart  \n",
    "plt.figure(figsize = (16,8))\n",
    "fig = sns.countplot('category_title', hue = 'region', data = total_unique)\n",
    "fig.set_title('The Number of Videos in Each Category', fontsize = 35)\n",
    "fig.set_xlabel('the Name of Category', fontsize = 20)\n",
    "fig.set_ylabel('Number of Videos', fontsize = 20)\n",
    "fig.set_xticklabels(fig.get_xticklabels(), rotation = 40)\n",
    "fig.tick_params(labelsize = 15)\n",
    "plt.setp(fig.get_legend().get_title(), fontsize='25')\n",
    "plt.setp(fig.get_legend().get_texts(), fontsize='22')"
   ]
  },
  {
   "cell_type": "code",
   "execution_count": 54,
   "metadata": {
    "slideshow": {
     "slide_type": "subslide"
    }
   },
   "outputs": [
    {
     "data": {
      "text/plain": [
       "[<matplotlib.axis.XTick at 0x7f9d41358040>,\n",
       " <matplotlib.axis.XTick at 0x7f9d41350fd0>,\n",
       " <matplotlib.axis.XTick at 0x7f9d4134cf40>,\n",
       " <matplotlib.axis.XTick at 0x7f9d41374ee0>,\n",
       " <matplotlib.axis.XTick at 0x7f9d4137c0d0>,\n",
       " <matplotlib.axis.XTick at 0x7f9d4137c5e0>,\n",
       " <matplotlib.axis.XTick at 0x7f9d4137caf0>,\n",
       " <matplotlib.axis.XTick at 0x7f9d41381040>,\n",
       " <matplotlib.axis.XTick at 0x7f9d41381550>]"
      ]
     },
     "execution_count": 54,
     "metadata": {},
     "output_type": "execute_result"
    },
    {
     "data": {
      "image/png": "[encoded data removed]",
      "text/plain": [
       "<Figure size 1152x576 with 1 Axes>"
      ]
     },
     "metadata": {
      "needs_background": "light"
     },
     "output_type": "display_data"
    }
   ],
   "source": [
    "# Visualization 2 - Scatter plot \n",
    "plt.figure(figsize = (16,8))\n",
    "plt.scatter(x = total_unique['publishedAt'],y = total_unique['view_count'],color = 'orange')\n",
    "plt.title('Scatterplot of Trending date and Number of Views', fontsize = 30)\n",
    "plt.xlabel(\"Publish Date\", fontsize = 20)\n",
    "plt.ylabel(\"Number of Views\", fontsize = 20)\n",
    "fig2 = plt.gca()\n",
    "fig2.set_xticks(fig2.get_xticks()[::1])"
   ]
  },
  {
   "cell_type": "markdown",
   "metadata": {
    "slideshow": {
     "slide_type": "slide"
    }
   },
   "source": [
    "##### Methods I am considering using \n",
    "- Data: cleaning, merging, and creating new columns \n",
    "- Visualizations\n",
    "- Statistical learning algorithms "
   ]
  },
  {
   "cell_type": "markdown",
   "metadata": {
    "slideshow": {
     "slide_type": "subslide"
    }
   },
   "source": [
    "#### Data and Visulizations \n",
    "- Clean the covid data scraped from the web \n",
    "- Merge it with the main dataset \n",
    "- Count net likes, make it as a new column \n",
    "- Make a line chart for covid cases and the views \n",
    "- Make a heatmap for correlations among all variables \n",
    "- Make scatter plots for the variable that is most strongly correlated with view counts "
   ]
  },
  {
   "cell_type": "markdown",
   "metadata": {
    "slideshow": {
     "slide_type": "subslide"
    }
   },
   "source": [
    "#### Statistical Learning algorithms \n",
    "- Decide the Y and Xs based on previous visualizations \n",
    "- deploy different statistical learning algorithems for comparison \n",
    "- Identify which model performed the best using ROC curve "
   ]
  },
  {
   "cell_type": "markdown",
   "metadata": {
    "slideshow": {
     "slide_type": "slide"
    }
   },
   "source": [
    "#### Lessons and Challenges \n",
    "- Noticed the duplicated after cleaning, merging, and after I made visualizations (biased vis)\n",
    "- Hard to define the popularity on YouTube (Views? Trending days?)"
   ]
  },
  {
   "cell_type": "markdown",
   "metadata": {
    "slideshow": {
     "slide_type": "slide"
    }
   },
   "source": [
    "### Thank you for listening. "
   ]
  }
 ],
 "metadata": {
  "celltoolbar": "Slideshow",
  "kernelspec": {
   "display_name": "Python 3",
   "language": "python",
   "name": "python3"
  },
  "language_info": {
   "codemirror_mode": {
    "name": "ipython",
    "version": 3
   },
   "file_extension": ".py",
   "mimetype": "text/x-python",
   "name": "python",
   "nbconvert_exporter": "python",
   "pygments_lexer": "ipython3",
   "version": "3.8.3"
  }
 },
 "nbformat": 4,
 "nbformat_minor": 4
}
