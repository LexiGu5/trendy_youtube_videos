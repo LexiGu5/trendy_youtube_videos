{
 "cells": [
  {
   "attachments": {},
   "cell_type": "markdown",
   "metadata": {},
   "source": [
    "### Question of Interest "
   ]
  },
  {
   "attachments": {},
   "cell_type": "markdown",
   "metadata": {},
   "source": [
    "YouTube is the most popular platform for people to share and view original contents. It has more than 2 billion users, with one billion hours and 5 billion videos watched daily. From a content-creator perspective, a trending YouTube video with tons of views, likes, and comments could be super lucrative. Given the increasing consumption of original videos and potential revenues, I would like to examine what would make a YouTube video popular. Specifically, I would like to look at the category, trending date, publish date, and video descriptions. Additionally, I would like to analyze the difference in trends and determinants across videos created in the US and videos created in the UK."
   ]
  },
  {
   "attachments": {},
   "cell_type": "markdown",
   "metadata": {},
   "source": [
    "### Data Sources and the plan "
   ]
  },
  {
   "attachments": {},
   "cell_type": "markdown",
   "metadata": {},
   "source": [
    "YouTube has a list of the top trending videos on the platform. Kaggle has released a dataset of daily record of the top trending videos on YouTube, using the list on YouTube as a reference. I plan to use the dataset for the trending US YouTube videos and the dataset for the trending UK YouTube videos. For reference, this is the link to the US trending YouTube video dataset. https://www.kaggle.com/rsrishav/youtube-trending-video-dataset?select=US_youtube_trending_data.csv"
   ]
  },
  {
   "attachments": {},
   "cell_type": "markdown",
   "metadata": {},
   "source": [
    "In addition to the two datasets, there are two json files associated with the category id variable for each of the datasets. In the dataset, the category id is coded with numbers ranging from 1 to 31 for the US dataset and from 1 to 30 for the UK dataset. I will also use these two json files along with the datasets to identify the category names associated with the category numbers. For reference, this is the link to the json file. https://www.kaggle.com/rsrishav/youtube-trending-video-dataset?select=GB_category_id.json"
   ]
  },
  {
   "attachments": {},
   "cell_type": "markdown",
   "metadata": {},
   "source": [
    "For both of the dataset, there will be 16 variables, namely, the video id, title, published time, channel title, channel id, category id, trending date, tags, view counts, likes, dislikes, comment counts, thumbnail link, comments disabled or not, ratings disabled or not, and description. I think all of the variables are important and useful for me to conduct the analysis. Also, I limit my analysis on videos released in August, September, and October this year. "
   ]
  },
  {
   "attachments": {},
   "cell_type": "markdown",
   "metadata": {},
   "source": [
    "In the US trending YouTube video dataset, there are 3302 observations. In the UK trending YouTube video dataset, there are 3624 YouTube videos. So, the sizes of these two datasets are comparable. "
   ]
  },
  {
   "cell_type": "markdown",
   "metadata": {},
   "source": [
    "### Methods"
   ]
  },
  {
   "attachments": {},
   "cell_type": "markdown",
   "metadata": {},
   "source": [
    "For the final dataset, 1) I expect to have a large dataset with all of the observations from the UK and US datasets combined together. 2) Besides the 16 original columns, I expect to have an additional variable of the category names associated with the category id numbers in the final dataset. 3) I plan to include a new variable with regards to the difference (in days) between the publish time and trending date. 4) I would like to have a variable indicating whether the observation is in the US or in the UK. 5) I plan to have all the string-type publish time and trending date as datetime objects. "
   ]
  },
  {
   "cell_type": "markdown",
   "metadata": {},
   "source": [
    "To obtain the desired dataset, 1) I would like to, using a for loop, extract the category title from the snippet object in the two json files and add a new variable of category name. 2) Then, before merging the two datasets, I would like to add a new column to each of the datasets, indicating if it’s a US video or UK video. I would merge the two data sets on publish time. 3) I plan to change the string-type publish time and the trending date as pandas datetime objects. 4) I will then define a function to calculate the difference in days between the publish time and the trending date. 5) I plan to filter the dataset by selecting the columns of interest. 6) I plan to group the observations by variables of interest (such as category and publish date) for further analysis. "
   ]
  },
  {
   "cell_type": "markdown",
   "metadata": {},
   "source": [
    "For visualizations, 1) I would like to have one bar chart of videos across all tags appeared in the videos to visualize what tag/category appears the most in the trending videos. I would like to know which tag is most likely to make a video trending. 2) I would like to have a line chart for the daily total number of trending videos, using trending date as the x variable, to analyze if there is a specific time that has the most trending videos. In other words, is there a time that is more favorable for YouTubers to publish videos.  3) I would like to have a scatter plot for total number of trending videos and time, using the categories as the filled value. I would like to use this graph to analyze what category stands out at what date. 4) I would like to create another scatter plot for total number of views across all categories to examine which category would be the most popular one. "
   ]
  },
  {
   "cell_type": "markdown",
   "metadata": {},
   "source": [
    "For statistical learning, I would like to make prediction based on the statistical model. Since we haven’t talked a lot about statistical learning, I will think more about how to carry out this part moving forward. I plan to have the independent variable as the probability of a video being popular and have time, category, tag, likes, comments as the explanatory variable. \n",
    "\n"
   ]
  },
  {
   "cell_type": "markdown",
   "metadata": {},
   "source": [
    "### Successful Project"
   ]
  },
  {
   "attachments": {},
   "cell_type": "markdown",
   "metadata": {},
   "source": [
    "I think a successful project needs to meet three requirements. First, the project has a clear structure. The project needs to be divided into several parts, such as obtaining data, data wrangling, visualization, etc. Each section needs to have a clear explanation of what the author tries to achieve, and there should be sufficient comments for each code. Second, the final dataset should be clean. Useless columns should be removed. The observations are structured/grouped in a way that the author specified earlier. The dataset should be ready to use for replication of analysis. Third, all of the visualizations should be of publishable quality. It is important for readers to understand the graph by itself and the results shown on the graph should be easy to understand. "
   ]
  },
  {
   "cell_type": "code",
   "execution_count": null,
   "metadata": {},
   "outputs": [],
   "source": []
  }
 ],
 "metadata": {
  "kernelspec": {
   "display_name": "Python 3",
   "language": "python",
   "name": "python3"
  },
  "language_info": {
   "codemirror_mode": {
    "name": "ipython",
    "version": 3
   },
   "file_extension": ".py",
   "mimetype": "text/x-python",
   "name": "python",
   "nbconvert_exporter": "python",
   "pygments_lexer": "ipython3",
   "version": "3.8.3"
  }
 },
 "nbformat": 4,
 "nbformat_minor": 4
}
