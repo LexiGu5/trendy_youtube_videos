{
 "cells": [
  {
   "cell_type": "code",
   "execution_count": 1,
   "metadata": {},
   "outputs": [],
   "source": [
    "# Data Management/Investigation\n",
    "import pandas as pd\n",
    "from pandas.api.types import CategoricalDtype # Ordering categories\n",
    "import numpy as np\n",
    "import missingno as miss\n",
    "\n",
    "# Plotting libraries\n",
    "from plotnine import *\n",
    "import matplotlib.pyplot as plt\n",
    "\n",
    "# For pre-processing data \n",
    "from sklearn import preprocessing as pp \n",
    "from sklearn.compose import ColumnTransformer \n",
    "\n",
    "# For splits and CV\n",
    "from sklearn.model_selection import train_test_split\n",
    "from sklearn.model_selection import KFold # Cross validation \n",
    "from sklearn.model_selection import cross_validate # Cross validation \n",
    "from sklearn.model_selection import GridSearchCV # Cross validation + param. tuning.\n",
    "\n",
    "# Machine learning methods \n",
    "from sklearn.naive_bayes import GaussianNB as NB\n",
    "from sklearn.neighbors import KNeighborsClassifier as KNN\n",
    "from sklearn.tree import DecisionTreeClassifier as DT\n",
    "from sklearn.tree import DecisionTreeRegressor as DT_reg\n",
    "from sklearn.ensemble import RandomForestClassifier as RF\n",
    "from sklearn import tree # For plotting the decision tree rules\n",
    "\n",
    "# For evaluating our model's performance\n",
    "import sklearn.metrics as m\n",
    "\n",
    "# Pipeline to combine modeling elements\n",
    "from sklearn.pipeline import Pipeline\n",
    "\n",
    "# Misc\n",
    "import warnings\n",
    "warnings.filterwarnings(\"ignore\")"
   ]
  },
  {
   "cell_type": "code",
   "execution_count": 2,
   "metadata": {},
   "outputs": [
    {
     "data": {
      "text/html": [
       "<div>\n",
       "<style scoped>\n",
       "    .dataframe tbody tr th:only-of-type {\n",
       "        vertical-align: middle;\n",
       "    }\n",
       "\n",
       "    .dataframe tbody tr th {\n",
       "        vertical-align: top;\n",
       "    }\n",
       "\n",
       "    .dataframe thead th {\n",
       "        text-align: right;\n",
       "    }\n",
       "</style>\n",
       "<table border=\"1\" class=\"dataframe\">\n",
       "  <thead>\n",
       "    <tr style=\"text-align: right;\">\n",
       "      <th></th>\n",
       "      <th>video_id</th>\n",
       "      <th>category_id</th>\n",
       "      <th>category_title</th>\n",
       "      <th>publishedAt</th>\n",
       "      <th>trending_date</th>\n",
       "      <th>view_count</th>\n",
       "      <th>likes</th>\n",
       "      <th>dislikes</th>\n",
       "      <th>comment_count</th>\n",
       "      <th>comments_disabled</th>\n",
       "      <th>ratings_disabled</th>\n",
       "      <th>trending_days</th>\n",
       "      <th>view_increase</th>\n",
       "      <th>like_increase</th>\n",
       "      <th>comment_increase</th>\n",
       "      <th>diff_days</th>\n",
       "      <th>engagement</th>\n",
       "      <th>new_case</th>\n",
       "      <th>new_death</th>\n",
       "    </tr>\n",
       "  </thead>\n",
       "  <tbody>\n",
       "    <tr>\n",
       "      <th>1545</th>\n",
       "      <td>HkTTPu_p2ps</td>\n",
       "      <td>10</td>\n",
       "      <td>Music</td>\n",
       "      <td>2020-08-08</td>\n",
       "      <td>2020-08-12</td>\n",
       "      <td>530924</td>\n",
       "      <td>33215</td>\n",
       "      <td>1116</td>\n",
       "      <td>1921</td>\n",
       "      <td>False</td>\n",
       "      <td>False</td>\n",
       "      <td>1 days</td>\n",
       "      <td>48409</td>\n",
       "      <td>964</td>\n",
       "      <td>34</td>\n",
       "      <td>4 days</td>\n",
       "      <td>615467</td>\n",
       "      <td>55894</td>\n",
       "      <td>1513</td>\n",
       "    </tr>\n",
       "    <tr>\n",
       "      <th>3895</th>\n",
       "      <td>OfGIhCpXip4</td>\n",
       "      <td>17</td>\n",
       "      <td>Sports</td>\n",
       "      <td>2020-09-27</td>\n",
       "      <td>2020-09-29</td>\n",
       "      <td>1175137</td>\n",
       "      <td>16963</td>\n",
       "      <td>904</td>\n",
       "      <td>877</td>\n",
       "      <td>False</td>\n",
       "      <td>False</td>\n",
       "      <td>1 days</td>\n",
       "      <td>141235</td>\n",
       "      <td>1067</td>\n",
       "      <td>69</td>\n",
       "      <td>2 days</td>\n",
       "      <td>1335348</td>\n",
       "      <td>36963</td>\n",
       "      <td>732</td>\n",
       "    </tr>\n",
       "    <tr>\n",
       "      <th>3965</th>\n",
       "      <td>3UFZfaWQdtA</td>\n",
       "      <td>17</td>\n",
       "      <td>Sports</td>\n",
       "      <td>2020-10-12</td>\n",
       "      <td>2020-10-13</td>\n",
       "      <td>975759</td>\n",
       "      <td>16907</td>\n",
       "      <td>1497</td>\n",
       "      <td>4294</td>\n",
       "      <td>False</td>\n",
       "      <td>False</td>\n",
       "      <td>5 days</td>\n",
       "      <td>297822</td>\n",
       "      <td>2833</td>\n",
       "      <td>757</td>\n",
       "      <td>1 days</td>\n",
       "      <td>1298372</td>\n",
       "      <td>48417</td>\n",
       "      <td>724</td>\n",
       "    </tr>\n",
       "    <tr>\n",
       "      <th>2680</th>\n",
       "      <td>TcKTSev1_Do</td>\n",
       "      <td>26</td>\n",
       "      <td>Howto &amp; Style</td>\n",
       "      <td>2020-11-28</td>\n",
       "      <td>2020-11-29</td>\n",
       "      <td>864610</td>\n",
       "      <td>65278</td>\n",
       "      <td>1055</td>\n",
       "      <td>7274</td>\n",
       "      <td>False</td>\n",
       "      <td>False</td>\n",
       "      <td>2 days</td>\n",
       "      <td>330444</td>\n",
       "      <td>16518</td>\n",
       "      <td>1384</td>\n",
       "      <td>1 days</td>\n",
       "      <td>1285508</td>\n",
       "      <td>136090</td>\n",
       "      <td>823</td>\n",
       "    </tr>\n",
       "    <tr>\n",
       "      <th>3477</th>\n",
       "      <td>hHTGdglw4UI</td>\n",
       "      <td>25</td>\n",
       "      <td>News &amp; Politics</td>\n",
       "      <td>2020-09-05</td>\n",
       "      <td>2020-09-07</td>\n",
       "      <td>174801</td>\n",
       "      <td>1615</td>\n",
       "      <td>531</td>\n",
       "      <td>2144</td>\n",
       "      <td>False</td>\n",
       "      <td>False</td>\n",
       "      <td>5 days</td>\n",
       "      <td>76565</td>\n",
       "      <td>617</td>\n",
       "      <td>639</td>\n",
       "      <td>2 days</td>\n",
       "      <td>256381</td>\n",
       "      <td>28142</td>\n",
       "      <td>227</td>\n",
       "    </tr>\n",
       "    <tr>\n",
       "      <th>3850</th>\n",
       "      <td>ErzqKnB6opA</td>\n",
       "      <td>17</td>\n",
       "      <td>Sports</td>\n",
       "      <td>2020-09-24</td>\n",
       "      <td>2020-09-25</td>\n",
       "      <td>1344357</td>\n",
       "      <td>17600</td>\n",
       "      <td>439</td>\n",
       "      <td>1231</td>\n",
       "      <td>False</td>\n",
       "      <td>False</td>\n",
       "      <td>3 days</td>\n",
       "      <td>257261</td>\n",
       "      <td>1518</td>\n",
       "      <td>67</td>\n",
       "      <td>1 days</td>\n",
       "      <td>1622034</td>\n",
       "      <td>55186</td>\n",
       "      <td>849</td>\n",
       "    </tr>\n",
       "    <tr>\n",
       "      <th>2961</th>\n",
       "      <td>DWQ-pI_iNZU</td>\n",
       "      <td>23</td>\n",
       "      <td>Comedy</td>\n",
       "      <td>2020-10-26</td>\n",
       "      <td>2020-10-26</td>\n",
       "      <td>94368</td>\n",
       "      <td>5870</td>\n",
       "      <td>96</td>\n",
       "      <td>1245</td>\n",
       "      <td>False</td>\n",
       "      <td>False</td>\n",
       "      <td>5 days</td>\n",
       "      <td>105632</td>\n",
       "      <td>2550</td>\n",
       "      <td>372</td>\n",
       "      <td>0 days</td>\n",
       "      <td>210037</td>\n",
       "      <td>62535</td>\n",
       "      <td>399</td>\n",
       "    </tr>\n",
       "    <tr>\n",
       "      <th>1075</th>\n",
       "      <td>QpkOyicefO0</td>\n",
       "      <td>24</td>\n",
       "      <td>Entertainment</td>\n",
       "      <td>2020-09-26</td>\n",
       "      <td>2020-09-27</td>\n",
       "      <td>1032656</td>\n",
       "      <td>85046</td>\n",
       "      <td>611</td>\n",
       "      <td>2811</td>\n",
       "      <td>False</td>\n",
       "      <td>False</td>\n",
       "      <td>5 days</td>\n",
       "      <td>724808</td>\n",
       "      <td>28988</td>\n",
       "      <td>828</td>\n",
       "      <td>1 days</td>\n",
       "      <td>1875137</td>\n",
       "      <td>34983</td>\n",
       "      <td>307</td>\n",
       "    </tr>\n",
       "    <tr>\n",
       "      <th>880</th>\n",
       "      <td>EqhrnS3qBcI</td>\n",
       "      <td>24</td>\n",
       "      <td>Entertainment</td>\n",
       "      <td>2020-08-25</td>\n",
       "      <td>2020-08-27</td>\n",
       "      <td>340073</td>\n",
       "      <td>4327</td>\n",
       "      <td>250</td>\n",
       "      <td>604</td>\n",
       "      <td>False</td>\n",
       "      <td>False</td>\n",
       "      <td>3 days</td>\n",
       "      <td>125431</td>\n",
       "      <td>937</td>\n",
       "      <td>101</td>\n",
       "      <td>2 days</td>\n",
       "      <td>471473</td>\n",
       "      <td>43915</td>\n",
       "      <td>1128</td>\n",
       "    </tr>\n",
       "    <tr>\n",
       "      <th>4270</th>\n",
       "      <td>WXRFYiMlMLs</td>\n",
       "      <td>2</td>\n",
       "      <td>Autos &amp; Vehicles</td>\n",
       "      <td>2020-09-22</td>\n",
       "      <td>2020-09-23</td>\n",
       "      <td>901247</td>\n",
       "      <td>36732</td>\n",
       "      <td>852</td>\n",
       "      <td>7405</td>\n",
       "      <td>False</td>\n",
       "      <td>False</td>\n",
       "      <td>5 days</td>\n",
       "      <td>833303</td>\n",
       "      <td>14233</td>\n",
       "      <td>2437</td>\n",
       "      <td>1 days</td>\n",
       "      <td>1795357</td>\n",
       "      <td>38619</td>\n",
       "      <td>1159</td>\n",
       "    </tr>\n",
       "  </tbody>\n",
       "</table>\n",
       "</div>"
      ],
      "text/plain": [
       "         video_id  category_id    category_title publishedAt trending_date  \\\n",
       "1545  HkTTPu_p2ps           10             Music  2020-08-08    2020-08-12   \n",
       "3895  OfGIhCpXip4           17            Sports  2020-09-27    2020-09-29   \n",
       "3965  3UFZfaWQdtA           17            Sports  2020-10-12    2020-10-13   \n",
       "2680  TcKTSev1_Do           26     Howto & Style  2020-11-28    2020-11-29   \n",
       "3477  hHTGdglw4UI           25   News & Politics  2020-09-05    2020-09-07   \n",
       "3850  ErzqKnB6opA           17            Sports  2020-09-24    2020-09-25   \n",
       "2961  DWQ-pI_iNZU           23            Comedy  2020-10-26    2020-10-26   \n",
       "1075  QpkOyicefO0           24     Entertainment  2020-09-26    2020-09-27   \n",
       "880   EqhrnS3qBcI           24     Entertainment  2020-08-25    2020-08-27   \n",
       "4270  WXRFYiMlMLs            2  Autos & Vehicles  2020-09-22    2020-09-23   \n",
       "\n",
       "      view_count  likes  dislikes  comment_count  comments_disabled  \\\n",
       "1545      530924  33215      1116           1921              False   \n",
       "3895     1175137  16963       904            877              False   \n",
       "3965      975759  16907      1497           4294              False   \n",
       "2680      864610  65278      1055           7274              False   \n",
       "3477      174801   1615       531           2144              False   \n",
       "3850     1344357  17600       439           1231              False   \n",
       "2961       94368   5870        96           1245              False   \n",
       "1075     1032656  85046       611           2811              False   \n",
       "880       340073   4327       250            604              False   \n",
       "4270      901247  36732       852           7405              False   \n",
       "\n",
       "      ratings_disabled trending_days  view_increase  like_increase  \\\n",
       "1545             False        1 days          48409            964   \n",
       "3895             False        1 days         141235           1067   \n",
       "3965             False        5 days         297822           2833   \n",
       "2680             False        2 days         330444          16518   \n",
       "3477             False        5 days          76565            617   \n",
       "3850             False        3 days         257261           1518   \n",
       "2961             False        5 days         105632           2550   \n",
       "1075             False        5 days         724808          28988   \n",
       "880              False        3 days         125431            937   \n",
       "4270             False        5 days         833303          14233   \n",
       "\n",
       "      comment_increase diff_days  engagement  new_case  new_death  \n",
       "1545                34    4 days      615467     55894       1513  \n",
       "3895                69    2 days     1335348     36963        732  \n",
       "3965               757    1 days     1298372     48417        724  \n",
       "2680              1384    1 days     1285508    136090        823  \n",
       "3477               639    2 days      256381     28142        227  \n",
       "3850                67    1 days     1622034     55186        849  \n",
       "2961               372    0 days      210037     62535        399  \n",
       "1075               828    1 days     1875137     34983        307  \n",
       "880                101    2 days      471473     43915       1128  \n",
       "4270              2437    1 days     1795357     38619       1159  "
      ]
     },
     "execution_count": 2,
     "metadata": {},
     "output_type": "execute_result"
    }
   ],
   "source": [
    "# load the file \n",
    "video = pd.read_csv('video.csv')\n",
    "\n",
    "# look at a sample\n",
    "video.sample(10)"
   ]
  },
  {
   "cell_type": "markdown",
   "metadata": {},
   "source": [
    "### Convert Data types"
   ]
  },
  {
   "cell_type": "code",
   "execution_count": 3,
   "metadata": {
    "scrolled": true
   },
   "outputs": [
    {
     "data": {
      "text/plain": [
       "video_id             object\n",
       "category_id           int64\n",
       "category_title       object\n",
       "publishedAt          object\n",
       "trending_date        object\n",
       "view_count            int64\n",
       "likes                 int64\n",
       "dislikes              int64\n",
       "comment_count         int64\n",
       "comments_disabled      bool\n",
       "ratings_disabled       bool\n",
       "trending_days        object\n",
       "view_increase         int64\n",
       "like_increase         int64\n",
       "comment_increase      int64\n",
       "diff_days            object\n",
       "engagement            int64\n",
       "new_case              int64\n",
       "new_death             int64\n",
       "dtype: object"
      ]
     },
     "execution_count": 3,
     "metadata": {},
     "output_type": "execute_result"
    }
   ],
   "source": [
    "# look at the data types \n",
    "video.dtypes"
   ]
  },
  {
   "cell_type": "code",
   "execution_count": 4,
   "metadata": {
    "scrolled": true
   },
   "outputs": [],
   "source": [
    "# convert categorical variables to categories \n",
    "for col in ['category_title','comments_disabled','ratings_disabled']:\n",
    "    video[col] = video[col].astype('category')\n",
    "    \n",
    "# convert the diff_days to int64\n",
    "for i in range(len(video['diff_days'])):\n",
    "    video['diff_days'][i] = video['diff_days'][i].split()[0]\n",
    "\n",
    "video['diff_days'] = video['diff_days'].astype('int')\n",
    "\n",
    "# convert the trending days to int64\n",
    "for i in range(len(video['trending_days'])):\n",
    "    video['trending_days'][i] = video['trending_days'][i].split()[0]\n",
    "\n",
    "video['trending_days'] = video['trending_days'].astype('int')"
   ]
  },
  {
   "cell_type": "code",
   "execution_count": 5,
   "metadata": {},
   "outputs": [
    {
     "data": {
      "text/plain": [
       "video_id               object\n",
       "category_id             int64\n",
       "category_title       category\n",
       "publishedAt            object\n",
       "trending_date          object\n",
       "view_count              int64\n",
       "likes                   int64\n",
       "dislikes                int64\n",
       "comment_count           int64\n",
       "comments_disabled    category\n",
       "ratings_disabled     category\n",
       "trending_days           int64\n",
       "view_increase           int64\n",
       "like_increase           int64\n",
       "comment_increase        int64\n",
       "diff_days               int64\n",
       "engagement              int64\n",
       "new_case                int64\n",
       "new_death               int64\n",
       "dtype: object"
      ]
     },
     "execution_count": 5,
     "metadata": {},
     "output_type": "execute_result"
    }
   ],
   "source": [
    "# look at the data types again\n",
    "video.dtypes"
   ]
  },
  {
   "cell_type": "code",
   "execution_count": 6,
   "metadata": {},
   "outputs": [
    {
     "data": {
      "text/html": [
       "<div>\n",
       "<style scoped>\n",
       "    .dataframe tbody tr th:only-of-type {\n",
       "        vertical-align: middle;\n",
       "    }\n",
       "\n",
       "    .dataframe tbody tr th {\n",
       "        vertical-align: top;\n",
       "    }\n",
       "\n",
       "    .dataframe thead th {\n",
       "        text-align: right;\n",
       "    }\n",
       "</style>\n",
       "<table border=\"1\" class=\"dataframe\">\n",
       "  <thead>\n",
       "    <tr style=\"text-align: right;\">\n",
       "      <th></th>\n",
       "      <th>count</th>\n",
       "      <th>mean</th>\n",
       "      <th>std</th>\n",
       "      <th>min</th>\n",
       "      <th>25%</th>\n",
       "      <th>50%</th>\n",
       "      <th>75%</th>\n",
       "      <th>max</th>\n",
       "    </tr>\n",
       "  </thead>\n",
       "  <tbody>\n",
       "    <tr>\n",
       "      <th>category_id</th>\n",
       "      <td>4320.0</td>\n",
       "      <td>18.406</td>\n",
       "      <td>7.144</td>\n",
       "      <td>1.0</td>\n",
       "      <td>10.00</td>\n",
       "      <td>20.0</td>\n",
       "      <td>24.00</td>\n",
       "      <td>29.0</td>\n",
       "    </tr>\n",
       "    <tr>\n",
       "      <th>view_count</th>\n",
       "      <td>4320.0</td>\n",
       "      <td>1324839.650</td>\n",
       "      <td>2808937.012</td>\n",
       "      <td>0.0</td>\n",
       "      <td>298813.25</td>\n",
       "      <td>600527.0</td>\n",
       "      <td>1296550.00</td>\n",
       "      <td>76805026.0</td>\n",
       "    </tr>\n",
       "    <tr>\n",
       "      <th>likes</th>\n",
       "      <td>4320.0</td>\n",
       "      <td>105409.476</td>\n",
       "      <td>292797.998</td>\n",
       "      <td>0.0</td>\n",
       "      <td>13692.75</td>\n",
       "      <td>32950.5</td>\n",
       "      <td>86434.75</td>\n",
       "      <td>7045907.0</td>\n",
       "    </tr>\n",
       "    <tr>\n",
       "      <th>dislikes</th>\n",
       "      <td>4320.0</td>\n",
       "      <td>1954.720</td>\n",
       "      <td>9944.988</td>\n",
       "      <td>0.0</td>\n",
       "      <td>236.00</td>\n",
       "      <td>539.0</td>\n",
       "      <td>1441.00</td>\n",
       "      <td>405329.0</td>\n",
       "    </tr>\n",
       "    <tr>\n",
       "      <th>comment_count</th>\n",
       "      <td>4320.0</td>\n",
       "      <td>11665.528</td>\n",
       "      <td>72404.655</td>\n",
       "      <td>0.0</td>\n",
       "      <td>1404.75</td>\n",
       "      <td>3127.0</td>\n",
       "      <td>7550.50</td>\n",
       "      <td>2314087.0</td>\n",
       "    </tr>\n",
       "    <tr>\n",
       "      <th>trending_days</th>\n",
       "      <td>4320.0</td>\n",
       "      <td>4.370</td>\n",
       "      <td>1.882</td>\n",
       "      <td>0.0</td>\n",
       "      <td>3.00</td>\n",
       "      <td>4.0</td>\n",
       "      <td>5.00</td>\n",
       "      <td>30.0</td>\n",
       "    </tr>\n",
       "    <tr>\n",
       "      <th>view_increase</th>\n",
       "      <td>4320.0</td>\n",
       "      <td>1601232.016</td>\n",
       "      <td>5628449.860</td>\n",
       "      <td>0.0</td>\n",
       "      <td>151701.00</td>\n",
       "      <td>438358.5</td>\n",
       "      <td>1151287.00</td>\n",
       "      <td>175419930.0</td>\n",
       "    </tr>\n",
       "    <tr>\n",
       "      <th>like_increase</th>\n",
       "      <td>4320.0</td>\n",
       "      <td>50693.153</td>\n",
       "      <td>230824.327</td>\n",
       "      <td>0.0</td>\n",
       "      <td>3041.25</td>\n",
       "      <td>12118.0</td>\n",
       "      <td>37487.25</td>\n",
       "      <td>8689626.0</td>\n",
       "    </tr>\n",
       "    <tr>\n",
       "      <th>comment_increase</th>\n",
       "      <td>4320.0</td>\n",
       "      <td>5707.743</td>\n",
       "      <td>71902.612</td>\n",
       "      <td>0.0</td>\n",
       "      <td>268.75</td>\n",
       "      <td>824.0</td>\n",
       "      <td>2395.50</td>\n",
       "      <td>3751143.0</td>\n",
       "    </tr>\n",
       "    <tr>\n",
       "      <th>diff_days</th>\n",
       "      <td>4320.0</td>\n",
       "      <td>1.352</td>\n",
       "      <td>1.291</td>\n",
       "      <td>0.0</td>\n",
       "      <td>1.00</td>\n",
       "      <td>1.0</td>\n",
       "      <td>2.00</td>\n",
       "      <td>27.0</td>\n",
       "    </tr>\n",
       "    <tr>\n",
       "      <th>engagement</th>\n",
       "      <td>4320.0</td>\n",
       "      <td>3099547.566</td>\n",
       "      <td>8308811.997</td>\n",
       "      <td>0.0</td>\n",
       "      <td>584958.25</td>\n",
       "      <td>1214729.5</td>\n",
       "      <td>2649281.25</td>\n",
       "      <td>254449968.0</td>\n",
       "    </tr>\n",
       "    <tr>\n",
       "      <th>new_case</th>\n",
       "      <td>4320.0</td>\n",
       "      <td>71672.585</td>\n",
       "      <td>45935.072</td>\n",
       "      <td>22135.0</td>\n",
       "      <td>40491.00</td>\n",
       "      <td>50937.0</td>\n",
       "      <td>88728.00</td>\n",
       "      <td>194810.0</td>\n",
       "    </tr>\n",
       "    <tr>\n",
       "      <th>new_death</th>\n",
       "      <td>4320.0</td>\n",
       "      <td>940.971</td>\n",
       "      <td>453.299</td>\n",
       "      <td>227.0</td>\n",
       "      <td>580.00</td>\n",
       "      <td>929.0</td>\n",
       "      <td>1156.00</td>\n",
       "      <td>2506.0</td>\n",
       "    </tr>\n",
       "  </tbody>\n",
       "</table>\n",
       "</div>"
      ],
      "text/plain": [
       "                   count         mean          std      min        25%  \\\n",
       "category_id       4320.0       18.406        7.144      1.0      10.00   \n",
       "view_count        4320.0  1324839.650  2808937.012      0.0  298813.25   \n",
       "likes             4320.0   105409.476   292797.998      0.0   13692.75   \n",
       "dislikes          4320.0     1954.720     9944.988      0.0     236.00   \n",
       "comment_count     4320.0    11665.528    72404.655      0.0    1404.75   \n",
       "trending_days     4320.0        4.370        1.882      0.0       3.00   \n",
       "view_increase     4320.0  1601232.016  5628449.860      0.0  151701.00   \n",
       "like_increase     4320.0    50693.153   230824.327      0.0    3041.25   \n",
       "comment_increase  4320.0     5707.743    71902.612      0.0     268.75   \n",
       "diff_days         4320.0        1.352        1.291      0.0       1.00   \n",
       "engagement        4320.0  3099547.566  8308811.997      0.0  584958.25   \n",
       "new_case          4320.0    71672.585    45935.072  22135.0   40491.00   \n",
       "new_death         4320.0      940.971      453.299    227.0     580.00   \n",
       "\n",
       "                        50%         75%          max  \n",
       "category_id            20.0       24.00         29.0  \n",
       "view_count         600527.0  1296550.00   76805026.0  \n",
       "likes               32950.5    86434.75    7045907.0  \n",
       "dislikes              539.0     1441.00     405329.0  \n",
       "comment_count        3127.0     7550.50    2314087.0  \n",
       "trending_days           4.0        5.00         30.0  \n",
       "view_increase      438358.5  1151287.00  175419930.0  \n",
       "like_increase       12118.0    37487.25    8689626.0  \n",
       "comment_increase      824.0     2395.50    3751143.0  \n",
       "diff_days               1.0        2.00         27.0  \n",
       "engagement        1214729.5  2649281.25  254449968.0  \n",
       "new_case            50937.0    88728.00     194810.0  \n",
       "new_death             929.0     1156.00       2506.0  "
      ]
     },
     "execution_count": 6,
     "metadata": {},
     "output_type": "execute_result"
    }
   ],
   "source": [
    "# look at the statistical summary \n",
    "video.describe(include = ['int64']).T.round(3)"
   ]
  },
  {
   "cell_type": "code",
   "execution_count": 7,
   "metadata": {},
   "outputs": [
    {
     "data": {
      "text/html": [
       "<div>\n",
       "<style scoped>\n",
       "    .dataframe tbody tr th:only-of-type {\n",
       "        vertical-align: middle;\n",
       "    }\n",
       "\n",
       "    .dataframe tbody tr th {\n",
       "        vertical-align: top;\n",
       "    }\n",
       "\n",
       "    .dataframe thead th {\n",
       "        text-align: right;\n",
       "    }\n",
       "</style>\n",
       "<table border=\"1\" class=\"dataframe\">\n",
       "  <thead>\n",
       "    <tr style=\"text-align: right;\">\n",
       "      <th></th>\n",
       "      <th>count</th>\n",
       "      <th>unique</th>\n",
       "      <th>top</th>\n",
       "      <th>freq</th>\n",
       "    </tr>\n",
       "  </thead>\n",
       "  <tbody>\n",
       "    <tr>\n",
       "      <th>category_title</th>\n",
       "      <td>4320</td>\n",
       "      <td>15</td>\n",
       "      <td>Music</td>\n",
       "      <td>970</td>\n",
       "    </tr>\n",
       "    <tr>\n",
       "      <th>comments_disabled</th>\n",
       "      <td>4320</td>\n",
       "      <td>2</td>\n",
       "      <td>False</td>\n",
       "      <td>4247</td>\n",
       "    </tr>\n",
       "    <tr>\n",
       "      <th>ratings_disabled</th>\n",
       "      <td>4320</td>\n",
       "      <td>2</td>\n",
       "      <td>False</td>\n",
       "      <td>4281</td>\n",
       "    </tr>\n",
       "  </tbody>\n",
       "</table>\n",
       "</div>"
      ],
      "text/plain": [
       "                  count unique    top  freq\n",
       "category_title     4320     15  Music   970\n",
       "comments_disabled  4320      2  False  4247\n",
       "ratings_disabled   4320      2  False  4281"
      ]
     },
     "execution_count": 7,
     "metadata": {},
     "output_type": "execute_result"
    }
   ],
   "source": [
    "# look at the categorical variables \n",
    "video.describe(include = \"category\").T"
   ]
  },
  {
   "cell_type": "markdown",
   "metadata": {},
   "source": [
    "- the top1 category is Music "
   ]
  },
  {
   "cell_type": "code",
   "execution_count": 8,
   "metadata": {},
   "outputs": [
    {
     "data": {
      "image/png": "[encoded data removed]",
      "text/plain": [
       "<Figure size 1000x500 with 13 Axes>"
      ]
     },
     "metadata": {},
     "output_type": "display_data"
    },
    {
     "data": {
      "text/plain": [
       "<ggplot: (8771362749639)>"
      ]
     },
     "execution_count": 8,
     "metadata": {},
     "output_type": "execute_result"
    }
   ],
   "source": [
    "# Plot the continuous Variables \n",
    "continuous = video.select_dtypes(include=\"int64\").melt()\n",
    "(\n",
    "    ggplot(continuous,aes(x=\"value\")) +\n",
    "    geom_histogram(bins=25) +\n",
    "    facet_wrap(\"variable\",scales='free') +\n",
    "    theme(figure_size=(10,5),\n",
    "          subplots_adjust={'wspace':0.25})\n",
    ")"
   ]
  },
  {
   "cell_type": "markdown",
   "metadata": {},
   "source": [
    "- The variables have skewed distributions, so I will try log transformation. \n",
    "- I will not log engagement, the outcome variable, because I will recode it as a binary variable"
   ]
  },
  {
   "cell_type": "code",
   "execution_count": 9,
   "metadata": {},
   "outputs": [],
   "source": [
    "# log transformation \n",
    "for col in ['comment_count','comment_increase','dislikes','like_increase','likes','view_count','view_increase']:\n",
    "    for i in range(len(video[col])):\n",
    "        # for non-zero value only \n",
    "        if video[col][i] != 0:\n",
    "            video[col][i] = np.log(video[col][i])"
   ]
  },
  {
   "cell_type": "code",
   "execution_count": 10,
   "metadata": {},
   "outputs": [
    {
     "data": {
      "image/png": "[encoded data removed]",
      "text/plain": [
       "<Figure size 1000x500 with 13 Axes>"
      ]
     },
     "metadata": {},
     "output_type": "display_data"
    },
    {
     "data": {
      "text/plain": [
       "<ggplot: (8771368905912)>"
      ]
     },
     "execution_count": 10,
     "metadata": {},
     "output_type": "execute_result"
    }
   ],
   "source": [
    "# Plot the continuous Variables again\n",
    "continuous = video.select_dtypes(include=\"int64\").melt()\n",
    "(\n",
    "    ggplot(continuous,aes(x=\"value\")) +\n",
    "    geom_histogram(bins=25) +\n",
    "    facet_wrap(\"variable\",scales='free') +\n",
    "    theme(figure_size=(10,5),\n",
    "          subplots_adjust={'wspace':0.25})\n",
    ")"
   ]
  },
  {
   "cell_type": "markdown",
   "metadata": {},
   "source": [
    "- The distributions are more like normal distributions now. "
   ]
  },
  {
   "cell_type": "code",
   "execution_count": 11,
   "metadata": {},
   "outputs": [
    {
     "data": {
      "image/png": "[encoded data removed]",
      "text/plain": [
       "<Figure size 1500x700 with 3 Axes>"
      ]
     },
     "metadata": {},
     "output_type": "display_data"
    },
    {
     "data": {
      "text/plain": [
       "<ggplot: (8771368917330)>"
      ]
     },
     "execution_count": 11,
     "metadata": {},
     "output_type": "execute_result"
    }
   ],
   "source": [
    "# plot for categorical variables \n",
    "category = video.select_dtypes(include = 'category').melt()\n",
    "(\n",
    "    ggplot(category,aes(x=\"value\")) +\n",
    "    geom_bar() +\n",
    "    facet_wrap(\"variable\",scales='free') +\n",
    "    theme(figure_size=(15,7),\n",
    "          subplots_adjust={'wspace':0.25,\n",
    "                           'hspace':0.75},\n",
    "         axis_text_x=element_text(rotation=45, hjust=1))\n",
    ")\n"
   ]
  },
  {
   "cell_type": "markdown",
   "metadata": {},
   "source": [
    "### Recoding"
   ]
  },
  {
   "cell_type": "code",
   "execution_count": 12,
   "metadata": {},
   "outputs": [],
   "source": [
    "# create the dummy variable for comment_disabled videos\n",
    "video['comments_disabled'] = 1*(video['comments_disabled'] == \"True\")"
   ]
  },
  {
   "cell_type": "code",
   "execution_count": 13,
   "metadata": {},
   "outputs": [],
   "source": [
    "# create a dummy for rating_disabled videos \n",
    "video['ratings_disabled'] = 1*(video['ratings_disabled'] == \"True\")"
   ]
  },
  {
   "cell_type": "code",
   "execution_count": 14,
   "metadata": {},
   "outputs": [],
   "source": [
    "# create a dummy for each category in the category title variable\n",
    "category_dummies = pd.get_dummies(video.category_title)"
   ]
  },
  {
   "cell_type": "code",
   "execution_count": 15,
   "metadata": {},
   "outputs": [],
   "source": [
    "# set the Nonprofits & Activism as reference group \n",
    "category_dummies = category_dummies.drop(['Nonprofits & Activism'], axis = 1) "
   ]
  },
  {
   "cell_type": "code",
   "execution_count": 16,
   "metadata": {},
   "outputs": [],
   "source": [
    "# concatenate \n",
    "video = pd.concat([video.drop(['category_id','category_title'],axis=1),category_dummies],axis=1)"
   ]
  },
  {
   "cell_type": "markdown",
   "metadata": {},
   "source": [
    "### Recode the outcome variable "
   ]
  },
  {
   "attachments": {},
   "cell_type": "markdown",
   "metadata": {},
   "source": [
    "- Research Question: if a person makes a new video weekly (which is the most common case for a professional YouTuber), what is the probability that the person can earn more than the average weekly salary in the U.S."
   ]
  },
  {
   "cell_type": "markdown",
   "metadata": {},
   "source": [
    "- The average weekly salary in the U.S. is $994"
   ]
  },
  {
   "attachments": {},
   "cell_type": "markdown",
   "metadata": {},
   "source": [
    "- Based on previoud studies, 1000 viewer engagement can bring 3 dollars to 10 dollars profits. \n",
    "- I will take the mean of the profits, which is 6.5.\n",
    "- So, to provide 994 profits, a video needs to have 152923 viewer engagement"
   ]
  },
  {
   "cell_type": "code",
   "execution_count": 17,
   "metadata": {},
   "outputs": [],
   "source": [
    "video['engagement'] = 1*(video['engagement'] > 152923)"
   ]
  },
  {
   "cell_type": "markdown",
   "metadata": {},
   "source": [
    "### Split the data "
   ]
  },
  {
   "cell_type": "code",
   "execution_count": 18,
   "metadata": {},
   "outputs": [
    {
     "name": "stdout",
     "output_type": "stream",
     "text": [
      "Training Data: 3240 \n",
      "Test Data: 1080\n",
      "0.75\n",
      "0.25\n"
     ]
    }
   ],
   "source": [
    "# set seeds \n",
    "np.random.seed(202011)\n",
    "\n",
    "# train-test split \n",
    "train = video.sample(frac = .75).reset_index(drop = True)\n",
    "test = video.drop(train.index).reset_index(drop = True)\n",
    "\n",
    "# Print off the split count \n",
    "print(\"Training Data:\",train.shape[0],\n",
    "      \"\\nTest Data:\",test.shape[0])\n",
    "\n",
    "# check the proportions\n",
    "print(train.shape[0]/video.shape[0])\n",
    "print(test.shape[0]/video.shape[0])"
   ]
  },
  {
   "cell_type": "markdown",
   "metadata": {},
   "source": [
    "### Build a machine learning pipeline"
   ]
  },
  {
   "cell_type": "code",
   "execution_count": 19,
   "metadata": {},
   "outputs": [],
   "source": [
    "# (0) Set the folds index to ensure comparable samples\n",
    "fold_generator = KFold(n_splits=5, shuffle=True,random_state=202011)\n",
    "\n",
    "# (1) preprocessing and initialize pipe \n",
    "pipe = Pipeline(steps=[('pre_process', pp.MinMaxScaler()),('model',None)])\n",
    "\n",
    "# (2) Specify the models and their repsective tuning parameters. \n",
    "search_space = [\n",
    "    \n",
    "    # NaiveBayes\n",
    "    {'model': [NB()]},\n",
    "    \n",
    "    # KNN with K tuning param\n",
    "    {'model' : [KNN()],\n",
    "     'model__n_neighbors':[5,10,25,50]},\n",
    "    \n",
    "    # Decision Tree with the Max Depth Param\n",
    "    {'model': [DT()],\n",
    "     'model__max_depth':[2,3,4]},\n",
    "    \n",
    "    # Random forest with the N Estimators tuning param\n",
    "    {'model' : [RF()],\n",
    "    'model__max_depth':[2,3,4],\n",
    "    'model__n_estimators':[500,1000,1500],\n",
    "    'model__max_features':[1,2,3,4,5,6,7,8,9,10,11,12,13,14,15,16,17,18]}\n",
    "    \n",
    "]\n",
    "\n",
    "# (3) Put it all together in the grid search\n",
    "search = GridSearchCV(pipe, search_space, \n",
    "                      cv = fold_generator,\n",
    "                      scoring='roc_auc',\n",
    "                      n_jobs=4)\n"
   ]
  },
  {
   "cell_type": "markdown",
   "metadata": {},
   "source": [
    "### Run the models "
   ]
  },
  {
   "cell_type": "code",
   "execution_count": 20,
   "metadata": {},
   "outputs": [
    {
     "data": {
      "text/plain": [
       "Index(['video_id', 'publishedAt', 'trending_date', 'view_count', 'likes',\n",
       "       'dislikes', 'comment_count', 'comments_disabled', 'ratings_disabled',\n",
       "       'trending_days', 'view_increase', 'like_increase', 'comment_increase',\n",
       "       'diff_days', 'engagement', 'new_case', 'new_death', 'Autos & Vehicles',\n",
       "       'Comedy', 'Education', 'Entertainment', 'Film & Animation', 'Gaming',\n",
       "       'Howto & Style', 'Music', 'News & Politics', 'People & Blogs',\n",
       "       'Pets & Animals', 'Science & Technology', 'Sports', 'Travel & Events'],\n",
       "      dtype='object')"
      ]
     },
     "execution_count": 20,
     "metadata": {},
     "output_type": "execute_result"
    }
   ],
   "source": [
    "train.columns"
   ]
  },
  {
   "cell_type": "code",
   "execution_count": 21,
   "metadata": {},
   "outputs": [],
   "source": [
    "# set the variables\n",
    "train_y = train['engagement']\n",
    "train_x = train[['comments_disabled','ratings_disabled','trending_days','diff_days',\n",
    "                'new_case','new_death','Autos & Vehicles','Comedy','Education','Entertainment','Film & Animation',\n",
    "                'Gaming','Howto & Style','Music','News & Politics','People & Blogs','Pets & Animals',\n",
    "                'Science & Technology','Sports','Travel & Events']]"
   ]
  },
  {
   "cell_type": "code",
   "execution_count": 22,
   "metadata": {},
   "outputs": [
    {
     "data": {
      "text/plain": [
       "GridSearchCV(cv=KFold(n_splits=5, random_state=202011, shuffle=True),\n",
       "             estimator=Pipeline(steps=[('pre_process', MinMaxScaler()),\n",
       "                                       ('model', None)]),\n",
       "             n_jobs=4,\n",
       "             param_grid=[{'model': [GaussianNB()]},\n",
       "                         {'model': [KNeighborsClassifier()],\n",
       "                          'model__n_neighbors': [5, 10, 25, 50]},\n",
       "                         {'model': [DecisionTreeClassifier()],\n",
       "                          'model__max_depth': [2, 3, 4]},\n",
       "                         {'model': [RandomForestClassifier(max_depth=2,\n",
       "                                                           max_features=18,\n",
       "                                                           n_estimators=1500)],\n",
       "                          'model__max_depth': [2, 3, 4],\n",
       "                          'model__max_features': [1, 2, 3, 4, 5, 6, 7, 8, 9, 10,\n",
       "                                                  11, 12, 13, 14, 15, 16, 17,\n",
       "                                                  18],\n",
       "                          'model__n_estimators': [500, 1000, 1500]}],\n",
       "             scoring='roc_auc')"
      ]
     },
     "execution_count": 22,
     "metadata": {},
     "output_type": "execute_result"
    }
   ],
   "source": [
    "# run\n",
    "search.fit(train_x,train_y)"
   ]
  },
  {
   "cell_type": "markdown",
   "metadata": {},
   "source": [
    "### Identify which model performed the best using the area under the ROC curve (AUC) metric"
   ]
  },
  {
   "cell_type": "code",
   "execution_count": 23,
   "metadata": {},
   "outputs": [
    {
     "data": {
      "text/plain": [
       "0.7805304075520388"
      ]
     },
     "execution_count": 23,
     "metadata": {},
     "output_type": "execute_result"
    }
   ],
   "source": [
    "search.best_score_"
   ]
  },
  {
   "cell_type": "markdown",
   "metadata": {},
   "source": [
    "### search.best_params_"
   ]
  },
  {
   "cell_type": "code",
   "execution_count": 24,
   "metadata": {},
   "outputs": [
    {
     "data": {
      "text/plain": [
       "Pipeline(steps=[('pre_process', MinMaxScaler()),\n",
       "                ('model',\n",
       "                 RandomForestClassifier(max_depth=2, max_features=18,\n",
       "                                        n_estimators=1500))])"
      ]
     },
     "execution_count": 24,
     "metadata": {},
     "output_type": "execute_result"
    }
   ],
   "source": [
    "search.best_estimator_"
   ]
  },
  {
   "cell_type": "code",
   "execution_count": 25,
   "metadata": {},
   "outputs": [],
   "source": [
    "# save the best parameters \n",
    "rf_mod = search.best_estimator_"
   ]
  },
  {
   "cell_type": "code",
   "execution_count": 26,
   "metadata": {},
   "outputs": [
    {
     "data": {
      "text/plain": [
       "0.8588381835804515"
      ]
     },
     "execution_count": 26,
     "metadata": {},
     "output_type": "execute_result"
    }
   ],
   "source": [
    "# the performance on the in-sample data \n",
    "m.roc_auc_score(train_y,rf_mod.predict_proba(train_x)[:,1])"
   ]
  },
  {
   "cell_type": "code",
   "execution_count": 27,
   "metadata": {},
   "outputs": [],
   "source": [
    "test_y = test['engagement']\n",
    "test_x = test[['comments_disabled','ratings_disabled','trending_days','diff_days',\n",
    "                'new_case','new_death','Autos & Vehicles','Comedy','Education','Entertainment','Film & Animation',\n",
    "                'Gaming','Howto & Style','Music','News & Politics','People & Blogs','Pets & Animals',\n",
    "                'Science & Technology','Sports','Travel & Events']]"
   ]
  },
  {
   "cell_type": "code",
   "execution_count": 28,
   "metadata": {},
   "outputs": [
    {
     "data": {
      "text/plain": [
       "0.7595283018867923"
      ]
     },
     "execution_count": 28,
     "metadata": {},
     "output_type": "execute_result"
    }
   ],
   "source": [
    "# look at the performance on the test data \n",
    "m.roc_auc_score(test_y,rf_mod.predict_proba(test_x)[:,1])"
   ]
  },
  {
   "cell_type": "code",
   "execution_count": 29,
   "metadata": {},
   "outputs": [
    {
     "data": {
      "text/plain": [
       "0.9882716049382716"
      ]
     },
     "execution_count": 29,
     "metadata": {},
     "output_type": "execute_result"
    }
   ],
   "source": [
    "m.accuracy_score(train_y,rf_mod.predict(train_x))"
   ]
  },
  {
   "cell_type": "markdown",
   "metadata": {},
   "source": [
    "### Examine the variable importance"
   ]
  },
  {
   "cell_type": "code",
   "execution_count": 30,
   "metadata": {},
   "outputs": [],
   "source": [
    "from sklearn.inspection import partial_dependence\n",
    "from sklearn.inspection import plot_partial_dependence\n",
    "from sklearn.inspection import permutation_importance"
   ]
  },
  {
   "cell_type": "code",
   "execution_count": 31,
   "metadata": {},
   "outputs": [],
   "source": [
    "# Permute the features to determine importance\n",
    "vi = permutation_importance(rf_mod,train_x,train_y,n_repeats=30)"
   ]
  },
  {
   "cell_type": "code",
   "execution_count": 32,
   "metadata": {},
   "outputs": [
    {
     "data": {
      "text/html": [
       "<div>\n",
       "<style scoped>\n",
       "    .dataframe tbody tr th:only-of-type {\n",
       "        vertical-align: middle;\n",
       "    }\n",
       "\n",
       "    .dataframe tbody tr th {\n",
       "        vertical-align: top;\n",
       "    }\n",
       "\n",
       "    .dataframe thead th {\n",
       "        text-align: right;\n",
       "    }\n",
       "</style>\n",
       "<table border=\"1\" class=\"dataframe\">\n",
       "  <thead>\n",
       "    <tr style=\"text-align: right;\">\n",
       "      <th></th>\n",
       "      <th>variable</th>\n",
       "      <th>vi</th>\n",
       "      <th>std</th>\n",
       "      <th>low</th>\n",
       "      <th>high</th>\n",
       "    </tr>\n",
       "  </thead>\n",
       "  <tbody>\n",
       "    <tr>\n",
       "      <th>0</th>\n",
       "      <td>diff_days</td>\n",
       "      <td>0.000309</td>\n",
       "      <td>0.000000</td>\n",
       "      <td>0.000309</td>\n",
       "      <td>0.000309</td>\n",
       "    </tr>\n",
       "    <tr>\n",
       "      <th>1</th>\n",
       "      <td>Science &amp; Technology</td>\n",
       "      <td>0.000278</td>\n",
       "      <td>0.000093</td>\n",
       "      <td>0.000093</td>\n",
       "      <td>0.000463</td>\n",
       "    </tr>\n",
       "    <tr>\n",
       "      <th>2</th>\n",
       "      <td>trending_days</td>\n",
       "      <td>0.000267</td>\n",
       "      <td>0.000105</td>\n",
       "      <td>0.000058</td>\n",
       "      <td>0.000477</td>\n",
       "    </tr>\n",
       "    <tr>\n",
       "      <th>3</th>\n",
       "      <td>comments_disabled</td>\n",
       "      <td>0.000000</td>\n",
       "      <td>0.000000</td>\n",
       "      <td>0.000000</td>\n",
       "      <td>0.000000</td>\n",
       "    </tr>\n",
       "    <tr>\n",
       "      <th>4</th>\n",
       "      <td>Gaming</td>\n",
       "      <td>0.000000</td>\n",
       "      <td>0.000000</td>\n",
       "      <td>0.000000</td>\n",
       "      <td>0.000000</td>\n",
       "    </tr>\n",
       "    <tr>\n",
       "      <th>5</th>\n",
       "      <td>Sports</td>\n",
       "      <td>0.000000</td>\n",
       "      <td>0.000000</td>\n",
       "      <td>0.000000</td>\n",
       "      <td>0.000000</td>\n",
       "    </tr>\n",
       "    <tr>\n",
       "      <th>6</th>\n",
       "      <td>Pets &amp; Animals</td>\n",
       "      <td>0.000000</td>\n",
       "      <td>0.000000</td>\n",
       "      <td>0.000000</td>\n",
       "      <td>0.000000</td>\n",
       "    </tr>\n",
       "    <tr>\n",
       "      <th>7</th>\n",
       "      <td>People &amp; Blogs</td>\n",
       "      <td>0.000000</td>\n",
       "      <td>0.000000</td>\n",
       "      <td>0.000000</td>\n",
       "      <td>0.000000</td>\n",
       "    </tr>\n",
       "    <tr>\n",
       "      <th>8</th>\n",
       "      <td>News &amp; Politics</td>\n",
       "      <td>0.000000</td>\n",
       "      <td>0.000000</td>\n",
       "      <td>0.000000</td>\n",
       "      <td>0.000000</td>\n",
       "    </tr>\n",
       "    <tr>\n",
       "      <th>9</th>\n",
       "      <td>Music</td>\n",
       "      <td>0.000000</td>\n",
       "      <td>0.000000</td>\n",
       "      <td>0.000000</td>\n",
       "      <td>0.000000</td>\n",
       "    </tr>\n",
       "    <tr>\n",
       "      <th>10</th>\n",
       "      <td>Howto &amp; Style</td>\n",
       "      <td>0.000000</td>\n",
       "      <td>0.000000</td>\n",
       "      <td>0.000000</td>\n",
       "      <td>0.000000</td>\n",
       "    </tr>\n",
       "    <tr>\n",
       "      <th>11</th>\n",
       "      <td>Film &amp; Animation</td>\n",
       "      <td>0.000000</td>\n",
       "      <td>0.000000</td>\n",
       "      <td>0.000000</td>\n",
       "      <td>0.000000</td>\n",
       "    </tr>\n",
       "    <tr>\n",
       "      <th>12</th>\n",
       "      <td>ratings_disabled</td>\n",
       "      <td>0.000000</td>\n",
       "      <td>0.000000</td>\n",
       "      <td>0.000000</td>\n",
       "      <td>0.000000</td>\n",
       "    </tr>\n",
       "    <tr>\n",
       "      <th>13</th>\n",
       "      <td>Entertainment</td>\n",
       "      <td>0.000000</td>\n",
       "      <td>0.000000</td>\n",
       "      <td>0.000000</td>\n",
       "      <td>0.000000</td>\n",
       "    </tr>\n",
       "    <tr>\n",
       "      <th>14</th>\n",
       "      <td>Education</td>\n",
       "      <td>0.000000</td>\n",
       "      <td>0.000000</td>\n",
       "      <td>0.000000</td>\n",
       "      <td>0.000000</td>\n",
       "    </tr>\n",
       "    <tr>\n",
       "      <th>15</th>\n",
       "      <td>Comedy</td>\n",
       "      <td>0.000000</td>\n",
       "      <td>0.000000</td>\n",
       "      <td>0.000000</td>\n",
       "      <td>0.000000</td>\n",
       "    </tr>\n",
       "    <tr>\n",
       "      <th>16</th>\n",
       "      <td>Autos &amp; Vehicles</td>\n",
       "      <td>0.000000</td>\n",
       "      <td>0.000000</td>\n",
       "      <td>0.000000</td>\n",
       "      <td>0.000000</td>\n",
       "    </tr>\n",
       "    <tr>\n",
       "      <th>17</th>\n",
       "      <td>new_death</td>\n",
       "      <td>0.000000</td>\n",
       "      <td>0.000000</td>\n",
       "      <td>0.000000</td>\n",
       "      <td>0.000000</td>\n",
       "    </tr>\n",
       "    <tr>\n",
       "      <th>18</th>\n",
       "      <td>new_case</td>\n",
       "      <td>0.000000</td>\n",
       "      <td>0.000000</td>\n",
       "      <td>0.000000</td>\n",
       "      <td>0.000000</td>\n",
       "    </tr>\n",
       "    <tr>\n",
       "      <th>19</th>\n",
       "      <td>Travel &amp; Events</td>\n",
       "      <td>0.000000</td>\n",
       "      <td>0.000000</td>\n",
       "      <td>0.000000</td>\n",
       "      <td>0.000000</td>\n",
       "    </tr>\n",
       "  </tbody>\n",
       "</table>\n",
       "</div>"
      ],
      "text/plain": [
       "                variable        vi       std       low      high\n",
       "0              diff_days  0.000309  0.000000  0.000309  0.000309\n",
       "1   Science & Technology  0.000278  0.000093  0.000093  0.000463\n",
       "2          trending_days  0.000267  0.000105  0.000058  0.000477\n",
       "3      comments_disabled  0.000000  0.000000  0.000000  0.000000\n",
       "4                 Gaming  0.000000  0.000000  0.000000  0.000000\n",
       "5                 Sports  0.000000  0.000000  0.000000  0.000000\n",
       "6         Pets & Animals  0.000000  0.000000  0.000000  0.000000\n",
       "7         People & Blogs  0.000000  0.000000  0.000000  0.000000\n",
       "8        News & Politics  0.000000  0.000000  0.000000  0.000000\n",
       "9                  Music  0.000000  0.000000  0.000000  0.000000\n",
       "10         Howto & Style  0.000000  0.000000  0.000000  0.000000\n",
       "11      Film & Animation  0.000000  0.000000  0.000000  0.000000\n",
       "12      ratings_disabled  0.000000  0.000000  0.000000  0.000000\n",
       "13         Entertainment  0.000000  0.000000  0.000000  0.000000\n",
       "14             Education  0.000000  0.000000  0.000000  0.000000\n",
       "15                Comedy  0.000000  0.000000  0.000000  0.000000\n",
       "16      Autos & Vehicles  0.000000  0.000000  0.000000  0.000000\n",
       "17             new_death  0.000000  0.000000  0.000000  0.000000\n",
       "18              new_case  0.000000  0.000000  0.000000  0.000000\n",
       "19       Travel & Events  0.000000  0.000000  0.000000  0.000000"
      ]
     },
     "execution_count": 32,
     "metadata": {},
     "output_type": "execute_result"
    }
   ],
   "source": [
    "# Organize as a data frame \n",
    "vi_dat = pd.DataFrame(dict(variable=train_x.columns,\n",
    "                           vi = vi['importances_mean'],\n",
    "                           std = vi['importances_std']))\n",
    "\n",
    "# Generate intervals\n",
    "vi_dat['low'] = vi_dat['vi'] - 2*vi_dat['std']\n",
    "vi_dat['high'] = vi_dat['vi'] + 2*vi_dat['std']\n",
    "\n",
    "# But in order from most to least important\n",
    "vi_dat = vi_dat.sort_values(by=\"vi\",ascending=False).reset_index(drop=True)\n",
    "\n",
    "\n",
    "vi_dat"
   ]
  },
  {
   "cell_type": "code",
   "execution_count": 33,
   "metadata": {},
   "outputs": [
    {
     "data": {
      "image/png": "[encoded data removed]",
      "text/plain": [
       "<Figure size 640x480 with 1 Axes>"
      ]
     },
     "metadata": {},
     "output_type": "display_data"
    },
    {
     "data": {
      "text/plain": [
       "<ggplot: (8771368222251)>"
      ]
     },
     "execution_count": 33,
     "metadata": {},
     "output_type": "execute_result"
    }
   ],
   "source": [
    "# to visualize \n",
    "(\n",
    "    ggplot(vi_dat,\n",
    "          aes(x=\"variable\",y=\"vi\")) +\n",
    "    geom_col(alpha=.5) +\n",
    "    geom_point() +\n",
    "    geom_errorbar(aes(ymin=\"low\",ymax=\"high\"),width=.2) +\n",
    "    theme_bw() +\n",
    "    scale_x_discrete(limits=vi_dat.variable.tolist()) +\n",
    "    coord_flip() +\n",
    "    labs(y=\"Reduction in AUC ROC\",x=\"\", title = ('Reduction in AUC ROC for each feature'))\n",
    ")"
   ]
  },
  {
   "cell_type": "code",
   "execution_count": 43,
   "metadata": {},
   "outputs": [
    {
     "data": {
      "image/png": "[encoded data removed]",
      "text/plain": [
       "<Figure size 1440x288 with 6 Axes>"
      ]
     },
     "metadata": {
      "needs_background": "light"
     },
     "output_type": "display_data"
    }
   ],
   "source": [
    "# Target specific features\n",
    "features = ['diff_days','Science & Technology','trending_days','new_death','People & Blogs']\n",
    "\n",
    "# Calculate the partial dependency\n",
    "fig, ax = plt.subplots(figsize=(20, 4))\n",
    "fig, ax.set_title('Partial Dependency of the Top 5 Important Variables')\n",
    "display = plot_partial_dependence(\n",
    "    rf_mod, train_x, features,n_cols=5,\n",
    "    n_jobs=4, grid_resolution=30,ax=ax\n",
    ")"
   ]
  },
  {
   "cell_type": "markdown",
   "metadata": {},
   "source": [
    "### Re-run the model "
   ]
  },
  {
   "cell_type": "code",
   "execution_count": 35,
   "metadata": {},
   "outputs": [],
   "source": [
    "# (0) Set the folds index to ensure comparable samples\n",
    "fold_generator = KFold(n_splits=5, shuffle=True,random_state=202011)\n",
    "\n",
    "# (1) preprocessing and initialize pipe \n",
    "pipe = Pipeline(steps=[('pre_process', pp.MinMaxScaler()),('model',None)])\n",
    "\n",
    "# (2) Specify the models and their repsective tuning parameters. \n",
    "search_space = [\n",
    "    \n",
    "    # NaiveBayes\n",
    "    {'model': [NB()]},\n",
    "    \n",
    "    # KNN with K tuning param\n",
    "    {'model' : [KNN()],\n",
    "     'model__n_neighbors':[5,10,25,50]},\n",
    "    \n",
    "    # Decision Tree with the Max Depth Param\n",
    "    {'model': [DT()],\n",
    "     'model__max_depth':[2,3,4]},\n",
    "    \n",
    "    # Random forest with the N Estimators tuning param\n",
    "    {'model' : [RF()],\n",
    "    'model__max_depth':[2,3,4],\n",
    "    'model__n_estimators':[500,1000,1500],\n",
    "    'model__max_features':[1,2,3,4,5]}\n",
    "    \n",
    "]\n",
    "\n",
    "# (3) Put it all together in the grid search\n",
    "search = GridSearchCV(pipe, search_space, \n",
    "                      cv = fold_generator,\n",
    "                      scoring='roc_auc',\n",
    "                      n_jobs=4)\n"
   ]
  },
  {
   "cell_type": "code",
   "execution_count": 36,
   "metadata": {},
   "outputs": [],
   "source": [
    "# set the variables\n",
    "train_y = train['engagement']\n",
    "train_x = train[['trending_days','diff_days','new_death','People & Blogs',\n",
    "                'Science & Technology']]"
   ]
  },
  {
   "cell_type": "code",
   "execution_count": 37,
   "metadata": {},
   "outputs": [
    {
     "data": {
      "text/plain": [
       "GridSearchCV(cv=KFold(n_splits=5, random_state=202011, shuffle=True),\n",
       "             estimator=Pipeline(steps=[('pre_process', MinMaxScaler()),\n",
       "                                       ('model', None)]),\n",
       "             n_jobs=4,\n",
       "             param_grid=[{'model': [GaussianNB()]},\n",
       "                         {'model': [KNeighborsClassifier()],\n",
       "                          'model__n_neighbors': [5, 10, 25, 50]},\n",
       "                         {'model': [DecisionTreeClassifier()],\n",
       "                          'model__max_depth': [2, 3, 4]},\n",
       "                         {'model': [RandomForestClassifier(max_depth=4,\n",
       "                                                           max_features=3,\n",
       "                                                           n_estimators=500)],\n",
       "                          'model__max_depth': [2, 3, 4],\n",
       "                          'model__max_features': [1, 2, 3, 4, 5],\n",
       "                          'model__n_estimators': [500, 1000, 1500]}],\n",
       "             scoring='roc_auc')"
      ]
     },
     "execution_count": 37,
     "metadata": {},
     "output_type": "execute_result"
    }
   ],
   "source": [
    "# run\n",
    "search.fit(train_x,train_y)"
   ]
  },
  {
   "cell_type": "code",
   "execution_count": 38,
   "metadata": {},
   "outputs": [
    {
     "data": {
      "text/plain": [
       "0.7823119749998781"
      ]
     },
     "execution_count": 38,
     "metadata": {},
     "output_type": "execute_result"
    }
   ],
   "source": [
    "search.best_score_"
   ]
  },
  {
   "cell_type": "code",
   "execution_count": 39,
   "metadata": {},
   "outputs": [
    {
     "data": {
      "text/plain": [
       "Pipeline(steps=[('pre_process', MinMaxScaler()),\n",
       "                ('model',\n",
       "                 RandomForestClassifier(max_depth=4, max_features=3,\n",
       "                                        n_estimators=500))])"
      ]
     },
     "execution_count": 39,
     "metadata": {},
     "output_type": "execute_result"
    }
   ],
   "source": [
    "search.best_estimator_"
   ]
  },
  {
   "cell_type": "code",
   "execution_count": 40,
   "metadata": {},
   "outputs": [],
   "source": [
    "# save the best parameters \n",
    "rf_mod = search.best_estimator_"
   ]
  },
  {
   "cell_type": "code",
   "execution_count": 41,
   "metadata": {},
   "outputs": [
    {
     "data": {
      "text/plain": [
       "0.933990980382733"
      ]
     },
     "execution_count": 41,
     "metadata": {},
     "output_type": "execute_result"
    }
   ],
   "source": [
    "# the performance on the in-sample data \n",
    "m.roc_auc_score(train_y,rf_mod.predict_proba(train_x)[:,1])"
   ]
  },
  {
   "cell_type": "code",
   "execution_count": 42,
   "metadata": {},
   "outputs": [
    {
     "data": {
      "text/plain": [
       "0.9882716049382716"
      ]
     },
     "execution_count": 42,
     "metadata": {},
     "output_type": "execute_result"
    }
   ],
   "source": [
    "m.accuracy_score(train_y,rf_mod.predict(train_x))"
   ]
  },
  {
   "cell_type": "code",
   "execution_count": null,
   "metadata": {},
   "outputs": [],
   "source": []
  }
 ],
 "metadata": {
  "kernelspec": {
   "display_name": "Python 3",
   "language": "python",
   "name": "python3"
  },
  "language_info": {
   "codemirror_mode": {
    "name": "ipython",
    "version": 3
   },
   "file_extension": ".py",
   "mimetype": "text/x-python",
   "name": "python",
   "nbconvert_exporter": "python",
   "pygments_lexer": "ipython3",
   "version": "3.8.3"
  }
 },
 "nbformat": 4,
 "nbformat_minor": 4
}
